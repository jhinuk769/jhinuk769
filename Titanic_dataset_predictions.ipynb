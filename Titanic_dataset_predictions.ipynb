{
 "cells": [
  {
   "cell_type": "code",
   "execution_count": 1,
   "id": "9f78e012",
   "metadata": {},
   "outputs": [],
   "source": [
    "import numpy as np\n",
    "import pandas as pd\n",
    "import matplotlib.pyplot as plt\n",
    "%matplotlib inline\n",
    "import seaborn as sns"
   ]
  },
  {
   "cell_type": "code",
   "execution_count": 2,
   "id": "4255bfb7",
   "metadata": {},
   "outputs": [],
   "source": [
    "import warnings\n",
    "warnings.filterwarnings('ignore')"
   ]
  },
  {
   "cell_type": "code",
   "execution_count": 3,
   "id": "6b6dc19e",
   "metadata": {},
   "outputs": [
    {
     "data": {
      "text/html": [
       "<div>\n",
       "<style scoped>\n",
       "    .dataframe tbody tr th:only-of-type {\n",
       "        vertical-align: middle;\n",
       "    }\n",
       "\n",
       "    .dataframe tbody tr th {\n",
       "        vertical-align: top;\n",
       "    }\n",
       "\n",
       "    .dataframe thead th {\n",
       "        text-align: right;\n",
       "    }\n",
       "</style>\n",
       "<table border=\"1\" class=\"dataframe\">\n",
       "  <thead>\n",
       "    <tr style=\"text-align: right;\">\n",
       "      <th></th>\n",
       "      <th>PassengerId</th>\n",
       "      <th>Survived</th>\n",
       "      <th>Pclass</th>\n",
       "      <th>Name</th>\n",
       "      <th>Sex</th>\n",
       "      <th>Age</th>\n",
       "      <th>SibSp</th>\n",
       "      <th>Parch</th>\n",
       "      <th>Ticket</th>\n",
       "      <th>Fare</th>\n",
       "      <th>Cabin</th>\n",
       "      <th>Embarked</th>\n",
       "    </tr>\n",
       "  </thead>\n",
       "  <tbody>\n",
       "    <tr>\n",
       "      <th>0</th>\n",
       "      <td>1</td>\n",
       "      <td>0</td>\n",
       "      <td>3</td>\n",
       "      <td>Braund, Mr. Owen Harris</td>\n",
       "      <td>male</td>\n",
       "      <td>22.0</td>\n",
       "      <td>1</td>\n",
       "      <td>0</td>\n",
       "      <td>A/5 21171</td>\n",
       "      <td>7.2500</td>\n",
       "      <td>NaN</td>\n",
       "      <td>S</td>\n",
       "    </tr>\n",
       "    <tr>\n",
       "      <th>1</th>\n",
       "      <td>2</td>\n",
       "      <td>1</td>\n",
       "      <td>1</td>\n",
       "      <td>Cumings, Mrs. John Bradley (Florence Briggs Th...</td>\n",
       "      <td>female</td>\n",
       "      <td>38.0</td>\n",
       "      <td>1</td>\n",
       "      <td>0</td>\n",
       "      <td>PC 17599</td>\n",
       "      <td>71.2833</td>\n",
       "      <td>C85</td>\n",
       "      <td>C</td>\n",
       "    </tr>\n",
       "    <tr>\n",
       "      <th>2</th>\n",
       "      <td>3</td>\n",
       "      <td>1</td>\n",
       "      <td>3</td>\n",
       "      <td>Heikkinen, Miss. Laina</td>\n",
       "      <td>female</td>\n",
       "      <td>26.0</td>\n",
       "      <td>0</td>\n",
       "      <td>0</td>\n",
       "      <td>STON/O2. 3101282</td>\n",
       "      <td>7.9250</td>\n",
       "      <td>NaN</td>\n",
       "      <td>S</td>\n",
       "    </tr>\n",
       "    <tr>\n",
       "      <th>3</th>\n",
       "      <td>4</td>\n",
       "      <td>1</td>\n",
       "      <td>1</td>\n",
       "      <td>Futrelle, Mrs. Jacques Heath (Lily May Peel)</td>\n",
       "      <td>female</td>\n",
       "      <td>35.0</td>\n",
       "      <td>1</td>\n",
       "      <td>0</td>\n",
       "      <td>113803</td>\n",
       "      <td>53.1000</td>\n",
       "      <td>C123</td>\n",
       "      <td>S</td>\n",
       "    </tr>\n",
       "    <tr>\n",
       "      <th>4</th>\n",
       "      <td>5</td>\n",
       "      <td>0</td>\n",
       "      <td>3</td>\n",
       "      <td>Allen, Mr. William Henry</td>\n",
       "      <td>male</td>\n",
       "      <td>35.0</td>\n",
       "      <td>0</td>\n",
       "      <td>0</td>\n",
       "      <td>373450</td>\n",
       "      <td>8.0500</td>\n",
       "      <td>NaN</td>\n",
       "      <td>S</td>\n",
       "    </tr>\n",
       "    <tr>\n",
       "      <th>...</th>\n",
       "      <td>...</td>\n",
       "      <td>...</td>\n",
       "      <td>...</td>\n",
       "      <td>...</td>\n",
       "      <td>...</td>\n",
       "      <td>...</td>\n",
       "      <td>...</td>\n",
       "      <td>...</td>\n",
       "      <td>...</td>\n",
       "      <td>...</td>\n",
       "      <td>...</td>\n",
       "      <td>...</td>\n",
       "    </tr>\n",
       "    <tr>\n",
       "      <th>886</th>\n",
       "      <td>887</td>\n",
       "      <td>0</td>\n",
       "      <td>2</td>\n",
       "      <td>Montvila, Rev. Juozas</td>\n",
       "      <td>male</td>\n",
       "      <td>27.0</td>\n",
       "      <td>0</td>\n",
       "      <td>0</td>\n",
       "      <td>211536</td>\n",
       "      <td>13.0000</td>\n",
       "      <td>NaN</td>\n",
       "      <td>S</td>\n",
       "    </tr>\n",
       "    <tr>\n",
       "      <th>887</th>\n",
       "      <td>888</td>\n",
       "      <td>1</td>\n",
       "      <td>1</td>\n",
       "      <td>Graham, Miss. Margaret Edith</td>\n",
       "      <td>female</td>\n",
       "      <td>19.0</td>\n",
       "      <td>0</td>\n",
       "      <td>0</td>\n",
       "      <td>112053</td>\n",
       "      <td>30.0000</td>\n",
       "      <td>B42</td>\n",
       "      <td>S</td>\n",
       "    </tr>\n",
       "    <tr>\n",
       "      <th>888</th>\n",
       "      <td>889</td>\n",
       "      <td>0</td>\n",
       "      <td>3</td>\n",
       "      <td>Johnston, Miss. Catherine Helen \"Carrie\"</td>\n",
       "      <td>female</td>\n",
       "      <td>NaN</td>\n",
       "      <td>1</td>\n",
       "      <td>2</td>\n",
       "      <td>W./C. 6607</td>\n",
       "      <td>23.4500</td>\n",
       "      <td>NaN</td>\n",
       "      <td>S</td>\n",
       "    </tr>\n",
       "    <tr>\n",
       "      <th>889</th>\n",
       "      <td>890</td>\n",
       "      <td>1</td>\n",
       "      <td>1</td>\n",
       "      <td>Behr, Mr. Karl Howell</td>\n",
       "      <td>male</td>\n",
       "      <td>26.0</td>\n",
       "      <td>0</td>\n",
       "      <td>0</td>\n",
       "      <td>111369</td>\n",
       "      <td>30.0000</td>\n",
       "      <td>C148</td>\n",
       "      <td>C</td>\n",
       "    </tr>\n",
       "    <tr>\n",
       "      <th>890</th>\n",
       "      <td>891</td>\n",
       "      <td>0</td>\n",
       "      <td>3</td>\n",
       "      <td>Dooley, Mr. Patrick</td>\n",
       "      <td>male</td>\n",
       "      <td>32.0</td>\n",
       "      <td>0</td>\n",
       "      <td>0</td>\n",
       "      <td>370376</td>\n",
       "      <td>7.7500</td>\n",
       "      <td>NaN</td>\n",
       "      <td>Q</td>\n",
       "    </tr>\n",
       "  </tbody>\n",
       "</table>\n",
       "<p>891 rows × 12 columns</p>\n",
       "</div>"
      ],
      "text/plain": [
       "     PassengerId  Survived  Pclass  \\\n",
       "0              1         0       3   \n",
       "1              2         1       1   \n",
       "2              3         1       3   \n",
       "3              4         1       1   \n",
       "4              5         0       3   \n",
       "..           ...       ...     ...   \n",
       "886          887         0       2   \n",
       "887          888         1       1   \n",
       "888          889         0       3   \n",
       "889          890         1       1   \n",
       "890          891         0       3   \n",
       "\n",
       "                                                  Name     Sex   Age  SibSp  \\\n",
       "0                              Braund, Mr. Owen Harris    male  22.0      1   \n",
       "1    Cumings, Mrs. John Bradley (Florence Briggs Th...  female  38.0      1   \n",
       "2                               Heikkinen, Miss. Laina  female  26.0      0   \n",
       "3         Futrelle, Mrs. Jacques Heath (Lily May Peel)  female  35.0      1   \n",
       "4                             Allen, Mr. William Henry    male  35.0      0   \n",
       "..                                                 ...     ...   ...    ...   \n",
       "886                              Montvila, Rev. Juozas    male  27.0      0   \n",
       "887                       Graham, Miss. Margaret Edith  female  19.0      0   \n",
       "888           Johnston, Miss. Catherine Helen \"Carrie\"  female   NaN      1   \n",
       "889                              Behr, Mr. Karl Howell    male  26.0      0   \n",
       "890                                Dooley, Mr. Patrick    male  32.0      0   \n",
       "\n",
       "     Parch            Ticket     Fare Cabin Embarked  \n",
       "0        0         A/5 21171   7.2500   NaN        S  \n",
       "1        0          PC 17599  71.2833   C85        C  \n",
       "2        0  STON/O2. 3101282   7.9250   NaN        S  \n",
       "3        0            113803  53.1000  C123        S  \n",
       "4        0            373450   8.0500   NaN        S  \n",
       "..     ...               ...      ...   ...      ...  \n",
       "886      0            211536  13.0000   NaN        S  \n",
       "887      0            112053  30.0000   B42        S  \n",
       "888      2        W./C. 6607  23.4500   NaN        S  \n",
       "889      0            111369  30.0000  C148        C  \n",
       "890      0            370376   7.7500   NaN        Q  \n",
       "\n",
       "[891 rows x 12 columns]"
      ]
     },
     "execution_count": 3,
     "metadata": {},
     "output_type": "execute_result"
    }
   ],
   "source": [
    "t = pd.read_csv(\"E:\\\\Kaggle Projects\\\\train.csv\")\n",
    "t"
   ]
  },
  {
   "cell_type": "markdown",
   "id": "72f2e53a",
   "metadata": {},
   "source": [
    "## EDA"
   ]
  },
  {
   "cell_type": "code",
   "execution_count": 4,
   "id": "d90347b4",
   "metadata": {},
   "outputs": [
    {
     "name": "stdout",
     "output_type": "stream",
     "text": [
      "<class 'pandas.core.frame.DataFrame'>\n",
      "RangeIndex: 891 entries, 0 to 890\n",
      "Data columns (total 12 columns):\n",
      " #   Column       Non-Null Count  Dtype  \n",
      "---  ------       --------------  -----  \n",
      " 0   PassengerId  891 non-null    int64  \n",
      " 1   Survived     891 non-null    int64  \n",
      " 2   Pclass       891 non-null    int64  \n",
      " 3   Name         891 non-null    object \n",
      " 4   Sex          891 non-null    object \n",
      " 5   Age          714 non-null    float64\n",
      " 6   SibSp        891 non-null    int64  \n",
      " 7   Parch        891 non-null    int64  \n",
      " 8   Ticket       891 non-null    object \n",
      " 9   Fare         891 non-null    float64\n",
      " 10  Cabin        204 non-null    object \n",
      " 11  Embarked     889 non-null    object \n",
      "dtypes: float64(2), int64(5), object(5)\n",
      "memory usage: 83.7+ KB\n"
     ]
    }
   ],
   "source": [
    "t.info()"
   ]
  },
  {
   "cell_type": "code",
   "execution_count": 5,
   "id": "aad47f6a",
   "metadata": {},
   "outputs": [
    {
     "data": {
      "text/plain": [
       "(891, 12)"
      ]
     },
     "execution_count": 5,
     "metadata": {},
     "output_type": "execute_result"
    }
   ],
   "source": [
    "t.shape"
   ]
  },
  {
   "cell_type": "code",
   "execution_count": 6,
   "id": "a86ae40d",
   "metadata": {},
   "outputs": [
    {
     "data": {
      "text/html": [
       "<div>\n",
       "<style scoped>\n",
       "    .dataframe tbody tr th:only-of-type {\n",
       "        vertical-align: middle;\n",
       "    }\n",
       "\n",
       "    .dataframe tbody tr th {\n",
       "        vertical-align: top;\n",
       "    }\n",
       "\n",
       "    .dataframe thead th {\n",
       "        text-align: right;\n",
       "    }\n",
       "</style>\n",
       "<table border=\"1\" class=\"dataframe\">\n",
       "  <thead>\n",
       "    <tr style=\"text-align: right;\">\n",
       "      <th></th>\n",
       "      <th>PassengerId</th>\n",
       "      <th>Survived</th>\n",
       "      <th>Pclass</th>\n",
       "      <th>Age</th>\n",
       "      <th>SibSp</th>\n",
       "      <th>Parch</th>\n",
       "      <th>Fare</th>\n",
       "    </tr>\n",
       "  </thead>\n",
       "  <tbody>\n",
       "    <tr>\n",
       "      <th>count</th>\n",
       "      <td>891.000000</td>\n",
       "      <td>891.000000</td>\n",
       "      <td>891.000000</td>\n",
       "      <td>714.000000</td>\n",
       "      <td>891.000000</td>\n",
       "      <td>891.000000</td>\n",
       "      <td>891.000000</td>\n",
       "    </tr>\n",
       "    <tr>\n",
       "      <th>mean</th>\n",
       "      <td>446.000000</td>\n",
       "      <td>0.383838</td>\n",
       "      <td>2.308642</td>\n",
       "      <td>29.699118</td>\n",
       "      <td>0.523008</td>\n",
       "      <td>0.381594</td>\n",
       "      <td>32.204208</td>\n",
       "    </tr>\n",
       "    <tr>\n",
       "      <th>std</th>\n",
       "      <td>257.353842</td>\n",
       "      <td>0.486592</td>\n",
       "      <td>0.836071</td>\n",
       "      <td>14.526497</td>\n",
       "      <td>1.102743</td>\n",
       "      <td>0.806057</td>\n",
       "      <td>49.693429</td>\n",
       "    </tr>\n",
       "    <tr>\n",
       "      <th>min</th>\n",
       "      <td>1.000000</td>\n",
       "      <td>0.000000</td>\n",
       "      <td>1.000000</td>\n",
       "      <td>0.420000</td>\n",
       "      <td>0.000000</td>\n",
       "      <td>0.000000</td>\n",
       "      <td>0.000000</td>\n",
       "    </tr>\n",
       "    <tr>\n",
       "      <th>25%</th>\n",
       "      <td>223.500000</td>\n",
       "      <td>0.000000</td>\n",
       "      <td>2.000000</td>\n",
       "      <td>20.125000</td>\n",
       "      <td>0.000000</td>\n",
       "      <td>0.000000</td>\n",
       "      <td>7.910400</td>\n",
       "    </tr>\n",
       "    <tr>\n",
       "      <th>50%</th>\n",
       "      <td>446.000000</td>\n",
       "      <td>0.000000</td>\n",
       "      <td>3.000000</td>\n",
       "      <td>28.000000</td>\n",
       "      <td>0.000000</td>\n",
       "      <td>0.000000</td>\n",
       "      <td>14.454200</td>\n",
       "    </tr>\n",
       "    <tr>\n",
       "      <th>75%</th>\n",
       "      <td>668.500000</td>\n",
       "      <td>1.000000</td>\n",
       "      <td>3.000000</td>\n",
       "      <td>38.000000</td>\n",
       "      <td>1.000000</td>\n",
       "      <td>0.000000</td>\n",
       "      <td>31.000000</td>\n",
       "    </tr>\n",
       "    <tr>\n",
       "      <th>max</th>\n",
       "      <td>891.000000</td>\n",
       "      <td>1.000000</td>\n",
       "      <td>3.000000</td>\n",
       "      <td>80.000000</td>\n",
       "      <td>8.000000</td>\n",
       "      <td>6.000000</td>\n",
       "      <td>512.329200</td>\n",
       "    </tr>\n",
       "  </tbody>\n",
       "</table>\n",
       "</div>"
      ],
      "text/plain": [
       "       PassengerId    Survived      Pclass         Age       SibSp  \\\n",
       "count   891.000000  891.000000  891.000000  714.000000  891.000000   \n",
       "mean    446.000000    0.383838    2.308642   29.699118    0.523008   \n",
       "std     257.353842    0.486592    0.836071   14.526497    1.102743   \n",
       "min       1.000000    0.000000    1.000000    0.420000    0.000000   \n",
       "25%     223.500000    0.000000    2.000000   20.125000    0.000000   \n",
       "50%     446.000000    0.000000    3.000000   28.000000    0.000000   \n",
       "75%     668.500000    1.000000    3.000000   38.000000    1.000000   \n",
       "max     891.000000    1.000000    3.000000   80.000000    8.000000   \n",
       "\n",
       "            Parch        Fare  \n",
       "count  891.000000  891.000000  \n",
       "mean     0.381594   32.204208  \n",
       "std      0.806057   49.693429  \n",
       "min      0.000000    0.000000  \n",
       "25%      0.000000    7.910400  \n",
       "50%      0.000000   14.454200  \n",
       "75%      0.000000   31.000000  \n",
       "max      6.000000  512.329200  "
      ]
     },
     "execution_count": 6,
     "metadata": {},
     "output_type": "execute_result"
    }
   ],
   "source": [
    "t.describe()"
   ]
  },
  {
   "cell_type": "code",
   "execution_count": 7,
   "id": "576f3dfd",
   "metadata": {},
   "outputs": [
    {
     "data": {
      "text/plain": [
       "PassengerId      0\n",
       "Survived         0\n",
       "Pclass           0\n",
       "Name             0\n",
       "Sex              0\n",
       "Age            177\n",
       "SibSp            0\n",
       "Parch            0\n",
       "Ticket           0\n",
       "Fare             0\n",
       "Cabin          687\n",
       "Embarked         2\n",
       "dtype: int64"
      ]
     },
     "execution_count": 7,
     "metadata": {},
     "output_type": "execute_result"
    }
   ],
   "source": [
    "t.isnull().sum()"
   ]
  },
  {
   "cell_type": "code",
   "execution_count": 8,
   "id": "a58acc7d",
   "metadata": {},
   "outputs": [],
   "source": [
    "t1 = t.drop(['PassengerId','Name','Ticket','Cabin'],axis=1)"
   ]
  },
  {
   "cell_type": "code",
   "execution_count": 9,
   "id": "122429a6",
   "metadata": {},
   "outputs": [],
   "source": [
    "t1['Age'].replace(np.nan,np.mean(t1['Age']),inplace=True)\n",
    "t1['Embarked'].replace(np.nan,0,inplace=True)"
   ]
  },
  {
   "cell_type": "code",
   "execution_count": 10,
   "id": "df1b21ed",
   "metadata": {},
   "outputs": [
    {
     "data": {
      "text/html": [
       "<div>\n",
       "<style scoped>\n",
       "    .dataframe tbody tr th:only-of-type {\n",
       "        vertical-align: middle;\n",
       "    }\n",
       "\n",
       "    .dataframe tbody tr th {\n",
       "        vertical-align: top;\n",
       "    }\n",
       "\n",
       "    .dataframe thead th {\n",
       "        text-align: right;\n",
       "    }\n",
       "</style>\n",
       "<table border=\"1\" class=\"dataframe\">\n",
       "  <thead>\n",
       "    <tr style=\"text-align: right;\">\n",
       "      <th></th>\n",
       "      <th>Survived</th>\n",
       "      <th>Pclass</th>\n",
       "      <th>Sex</th>\n",
       "      <th>Age</th>\n",
       "      <th>SibSp</th>\n",
       "      <th>Parch</th>\n",
       "      <th>Fare</th>\n",
       "      <th>Embarked</th>\n",
       "    </tr>\n",
       "  </thead>\n",
       "  <tbody>\n",
       "    <tr>\n",
       "      <th>0</th>\n",
       "      <td>0</td>\n",
       "      <td>3</td>\n",
       "      <td>male</td>\n",
       "      <td>22.000000</td>\n",
       "      <td>1</td>\n",
       "      <td>0</td>\n",
       "      <td>7.2500</td>\n",
       "      <td>S</td>\n",
       "    </tr>\n",
       "    <tr>\n",
       "      <th>1</th>\n",
       "      <td>1</td>\n",
       "      <td>1</td>\n",
       "      <td>female</td>\n",
       "      <td>38.000000</td>\n",
       "      <td>1</td>\n",
       "      <td>0</td>\n",
       "      <td>71.2833</td>\n",
       "      <td>C</td>\n",
       "    </tr>\n",
       "    <tr>\n",
       "      <th>2</th>\n",
       "      <td>1</td>\n",
       "      <td>3</td>\n",
       "      <td>female</td>\n",
       "      <td>26.000000</td>\n",
       "      <td>0</td>\n",
       "      <td>0</td>\n",
       "      <td>7.9250</td>\n",
       "      <td>S</td>\n",
       "    </tr>\n",
       "    <tr>\n",
       "      <th>3</th>\n",
       "      <td>1</td>\n",
       "      <td>1</td>\n",
       "      <td>female</td>\n",
       "      <td>35.000000</td>\n",
       "      <td>1</td>\n",
       "      <td>0</td>\n",
       "      <td>53.1000</td>\n",
       "      <td>S</td>\n",
       "    </tr>\n",
       "    <tr>\n",
       "      <th>4</th>\n",
       "      <td>0</td>\n",
       "      <td>3</td>\n",
       "      <td>male</td>\n",
       "      <td>35.000000</td>\n",
       "      <td>0</td>\n",
       "      <td>0</td>\n",
       "      <td>8.0500</td>\n",
       "      <td>S</td>\n",
       "    </tr>\n",
       "    <tr>\n",
       "      <th>...</th>\n",
       "      <td>...</td>\n",
       "      <td>...</td>\n",
       "      <td>...</td>\n",
       "      <td>...</td>\n",
       "      <td>...</td>\n",
       "      <td>...</td>\n",
       "      <td>...</td>\n",
       "      <td>...</td>\n",
       "    </tr>\n",
       "    <tr>\n",
       "      <th>886</th>\n",
       "      <td>0</td>\n",
       "      <td>2</td>\n",
       "      <td>male</td>\n",
       "      <td>27.000000</td>\n",
       "      <td>0</td>\n",
       "      <td>0</td>\n",
       "      <td>13.0000</td>\n",
       "      <td>S</td>\n",
       "    </tr>\n",
       "    <tr>\n",
       "      <th>887</th>\n",
       "      <td>1</td>\n",
       "      <td>1</td>\n",
       "      <td>female</td>\n",
       "      <td>19.000000</td>\n",
       "      <td>0</td>\n",
       "      <td>0</td>\n",
       "      <td>30.0000</td>\n",
       "      <td>S</td>\n",
       "    </tr>\n",
       "    <tr>\n",
       "      <th>888</th>\n",
       "      <td>0</td>\n",
       "      <td>3</td>\n",
       "      <td>female</td>\n",
       "      <td>29.699118</td>\n",
       "      <td>1</td>\n",
       "      <td>2</td>\n",
       "      <td>23.4500</td>\n",
       "      <td>S</td>\n",
       "    </tr>\n",
       "    <tr>\n",
       "      <th>889</th>\n",
       "      <td>1</td>\n",
       "      <td>1</td>\n",
       "      <td>male</td>\n",
       "      <td>26.000000</td>\n",
       "      <td>0</td>\n",
       "      <td>0</td>\n",
       "      <td>30.0000</td>\n",
       "      <td>C</td>\n",
       "    </tr>\n",
       "    <tr>\n",
       "      <th>890</th>\n",
       "      <td>0</td>\n",
       "      <td>3</td>\n",
       "      <td>male</td>\n",
       "      <td>32.000000</td>\n",
       "      <td>0</td>\n",
       "      <td>0</td>\n",
       "      <td>7.7500</td>\n",
       "      <td>Q</td>\n",
       "    </tr>\n",
       "  </tbody>\n",
       "</table>\n",
       "<p>891 rows × 8 columns</p>\n",
       "</div>"
      ],
      "text/plain": [
       "     Survived  Pclass     Sex        Age  SibSp  Parch     Fare Embarked\n",
       "0           0       3    male  22.000000      1      0   7.2500        S\n",
       "1           1       1  female  38.000000      1      0  71.2833        C\n",
       "2           1       3  female  26.000000      0      0   7.9250        S\n",
       "3           1       1  female  35.000000      1      0  53.1000        S\n",
       "4           0       3    male  35.000000      0      0   8.0500        S\n",
       "..        ...     ...     ...        ...    ...    ...      ...      ...\n",
       "886         0       2    male  27.000000      0      0  13.0000        S\n",
       "887         1       1  female  19.000000      0      0  30.0000        S\n",
       "888         0       3  female  29.699118      1      2  23.4500        S\n",
       "889         1       1    male  26.000000      0      0  30.0000        C\n",
       "890         0       3    male  32.000000      0      0   7.7500        Q\n",
       "\n",
       "[891 rows x 8 columns]"
      ]
     },
     "execution_count": 10,
     "metadata": {},
     "output_type": "execute_result"
    }
   ],
   "source": [
    "t1"
   ]
  },
  {
   "cell_type": "code",
   "execution_count": 11,
   "id": "a2194f00",
   "metadata": {},
   "outputs": [],
   "source": [
    "t2 = pd.get_dummies(t1,columns=['Sex','Embarked'])\n"
   ]
  },
  {
   "cell_type": "code",
   "execution_count": 12,
   "id": "ec81def9",
   "metadata": {},
   "outputs": [
    {
     "data": {
      "text/html": [
       "<div>\n",
       "<style scoped>\n",
       "    .dataframe tbody tr th:only-of-type {\n",
       "        vertical-align: middle;\n",
       "    }\n",
       "\n",
       "    .dataframe tbody tr th {\n",
       "        vertical-align: top;\n",
       "    }\n",
       "\n",
       "    .dataframe thead th {\n",
       "        text-align: right;\n",
       "    }\n",
       "</style>\n",
       "<table border=\"1\" class=\"dataframe\">\n",
       "  <thead>\n",
       "    <tr style=\"text-align: right;\">\n",
       "      <th></th>\n",
       "      <th>Survived</th>\n",
       "      <th>Pclass</th>\n",
       "      <th>Age</th>\n",
       "      <th>SibSp</th>\n",
       "      <th>Parch</th>\n",
       "      <th>Fare</th>\n",
       "      <th>Sex_female</th>\n",
       "      <th>Sex_male</th>\n",
       "      <th>Embarked_0</th>\n",
       "      <th>Embarked_C</th>\n",
       "      <th>Embarked_Q</th>\n",
       "      <th>Embarked_S</th>\n",
       "    </tr>\n",
       "  </thead>\n",
       "  <tbody>\n",
       "    <tr>\n",
       "      <th>0</th>\n",
       "      <td>0</td>\n",
       "      <td>3</td>\n",
       "      <td>22.000000</td>\n",
       "      <td>1</td>\n",
       "      <td>0</td>\n",
       "      <td>7.2500</td>\n",
       "      <td>0</td>\n",
       "      <td>1</td>\n",
       "      <td>0</td>\n",
       "      <td>0</td>\n",
       "      <td>0</td>\n",
       "      <td>1</td>\n",
       "    </tr>\n",
       "    <tr>\n",
       "      <th>1</th>\n",
       "      <td>1</td>\n",
       "      <td>1</td>\n",
       "      <td>38.000000</td>\n",
       "      <td>1</td>\n",
       "      <td>0</td>\n",
       "      <td>71.2833</td>\n",
       "      <td>1</td>\n",
       "      <td>0</td>\n",
       "      <td>0</td>\n",
       "      <td>1</td>\n",
       "      <td>0</td>\n",
       "      <td>0</td>\n",
       "    </tr>\n",
       "    <tr>\n",
       "      <th>2</th>\n",
       "      <td>1</td>\n",
       "      <td>3</td>\n",
       "      <td>26.000000</td>\n",
       "      <td>0</td>\n",
       "      <td>0</td>\n",
       "      <td>7.9250</td>\n",
       "      <td>1</td>\n",
       "      <td>0</td>\n",
       "      <td>0</td>\n",
       "      <td>0</td>\n",
       "      <td>0</td>\n",
       "      <td>1</td>\n",
       "    </tr>\n",
       "    <tr>\n",
       "      <th>3</th>\n",
       "      <td>1</td>\n",
       "      <td>1</td>\n",
       "      <td>35.000000</td>\n",
       "      <td>1</td>\n",
       "      <td>0</td>\n",
       "      <td>53.1000</td>\n",
       "      <td>1</td>\n",
       "      <td>0</td>\n",
       "      <td>0</td>\n",
       "      <td>0</td>\n",
       "      <td>0</td>\n",
       "      <td>1</td>\n",
       "    </tr>\n",
       "    <tr>\n",
       "      <th>4</th>\n",
       "      <td>0</td>\n",
       "      <td>3</td>\n",
       "      <td>35.000000</td>\n",
       "      <td>0</td>\n",
       "      <td>0</td>\n",
       "      <td>8.0500</td>\n",
       "      <td>0</td>\n",
       "      <td>1</td>\n",
       "      <td>0</td>\n",
       "      <td>0</td>\n",
       "      <td>0</td>\n",
       "      <td>1</td>\n",
       "    </tr>\n",
       "    <tr>\n",
       "      <th>...</th>\n",
       "      <td>...</td>\n",
       "      <td>...</td>\n",
       "      <td>...</td>\n",
       "      <td>...</td>\n",
       "      <td>...</td>\n",
       "      <td>...</td>\n",
       "      <td>...</td>\n",
       "      <td>...</td>\n",
       "      <td>...</td>\n",
       "      <td>...</td>\n",
       "      <td>...</td>\n",
       "      <td>...</td>\n",
       "    </tr>\n",
       "    <tr>\n",
       "      <th>886</th>\n",
       "      <td>0</td>\n",
       "      <td>2</td>\n",
       "      <td>27.000000</td>\n",
       "      <td>0</td>\n",
       "      <td>0</td>\n",
       "      <td>13.0000</td>\n",
       "      <td>0</td>\n",
       "      <td>1</td>\n",
       "      <td>0</td>\n",
       "      <td>0</td>\n",
       "      <td>0</td>\n",
       "      <td>1</td>\n",
       "    </tr>\n",
       "    <tr>\n",
       "      <th>887</th>\n",
       "      <td>1</td>\n",
       "      <td>1</td>\n",
       "      <td>19.000000</td>\n",
       "      <td>0</td>\n",
       "      <td>0</td>\n",
       "      <td>30.0000</td>\n",
       "      <td>1</td>\n",
       "      <td>0</td>\n",
       "      <td>0</td>\n",
       "      <td>0</td>\n",
       "      <td>0</td>\n",
       "      <td>1</td>\n",
       "    </tr>\n",
       "    <tr>\n",
       "      <th>888</th>\n",
       "      <td>0</td>\n",
       "      <td>3</td>\n",
       "      <td>29.699118</td>\n",
       "      <td>1</td>\n",
       "      <td>2</td>\n",
       "      <td>23.4500</td>\n",
       "      <td>1</td>\n",
       "      <td>0</td>\n",
       "      <td>0</td>\n",
       "      <td>0</td>\n",
       "      <td>0</td>\n",
       "      <td>1</td>\n",
       "    </tr>\n",
       "    <tr>\n",
       "      <th>889</th>\n",
       "      <td>1</td>\n",
       "      <td>1</td>\n",
       "      <td>26.000000</td>\n",
       "      <td>0</td>\n",
       "      <td>0</td>\n",
       "      <td>30.0000</td>\n",
       "      <td>0</td>\n",
       "      <td>1</td>\n",
       "      <td>0</td>\n",
       "      <td>1</td>\n",
       "      <td>0</td>\n",
       "      <td>0</td>\n",
       "    </tr>\n",
       "    <tr>\n",
       "      <th>890</th>\n",
       "      <td>0</td>\n",
       "      <td>3</td>\n",
       "      <td>32.000000</td>\n",
       "      <td>0</td>\n",
       "      <td>0</td>\n",
       "      <td>7.7500</td>\n",
       "      <td>0</td>\n",
       "      <td>1</td>\n",
       "      <td>0</td>\n",
       "      <td>0</td>\n",
       "      <td>1</td>\n",
       "      <td>0</td>\n",
       "    </tr>\n",
       "  </tbody>\n",
       "</table>\n",
       "<p>891 rows × 12 columns</p>\n",
       "</div>"
      ],
      "text/plain": [
       "     Survived  Pclass        Age  SibSp  Parch     Fare  Sex_female  Sex_male  \\\n",
       "0           0       3  22.000000      1      0   7.2500           0         1   \n",
       "1           1       1  38.000000      1      0  71.2833           1         0   \n",
       "2           1       3  26.000000      0      0   7.9250           1         0   \n",
       "3           1       1  35.000000      1      0  53.1000           1         0   \n",
       "4           0       3  35.000000      0      0   8.0500           0         1   \n",
       "..        ...     ...        ...    ...    ...      ...         ...       ...   \n",
       "886         0       2  27.000000      0      0  13.0000           0         1   \n",
       "887         1       1  19.000000      0      0  30.0000           1         0   \n",
       "888         0       3  29.699118      1      2  23.4500           1         0   \n",
       "889         1       1  26.000000      0      0  30.0000           0         1   \n",
       "890         0       3  32.000000      0      0   7.7500           0         1   \n",
       "\n",
       "     Embarked_0  Embarked_C  Embarked_Q  Embarked_S  \n",
       "0             0           0           0           1  \n",
       "1             0           1           0           0  \n",
       "2             0           0           0           1  \n",
       "3             0           0           0           1  \n",
       "4             0           0           0           1  \n",
       "..          ...         ...         ...         ...  \n",
       "886           0           0           0           1  \n",
       "887           0           0           0           1  \n",
       "888           0           0           0           1  \n",
       "889           0           1           0           0  \n",
       "890           0           0           1           0  \n",
       "\n",
       "[891 rows x 12 columns]"
      ]
     },
     "execution_count": 12,
     "metadata": {},
     "output_type": "execute_result"
    }
   ],
   "source": [
    "t2"
   ]
  },
  {
   "cell_type": "code",
   "execution_count": 13,
   "id": "361b06d3",
   "metadata": {},
   "outputs": [
    {
     "data": {
      "text/plain": [
       "Survived      0\n",
       "Pclass        0\n",
       "Age           0\n",
       "SibSp         0\n",
       "Parch         0\n",
       "Fare          0\n",
       "Sex_female    0\n",
       "Sex_male      0\n",
       "Embarked_0    0\n",
       "Embarked_C    0\n",
       "Embarked_Q    0\n",
       "Embarked_S    0\n",
       "dtype: int64"
      ]
     },
     "execution_count": 13,
     "metadata": {},
     "output_type": "execute_result"
    }
   ],
   "source": [
    "t2.isnull().sum()"
   ]
  },
  {
   "cell_type": "code",
   "execution_count": 14,
   "id": "7f600bfc",
   "metadata": {},
   "outputs": [],
   "source": [
    "t2.drop(['Embarked_0'],axis=1,inplace=True)"
   ]
  },
  {
   "cell_type": "code",
   "execution_count": 15,
   "id": "22bf4c43",
   "metadata": {},
   "outputs": [
    {
     "data": {
      "text/html": [
       "<div>\n",
       "<style scoped>\n",
       "    .dataframe tbody tr th:only-of-type {\n",
       "        vertical-align: middle;\n",
       "    }\n",
       "\n",
       "    .dataframe tbody tr th {\n",
       "        vertical-align: top;\n",
       "    }\n",
       "\n",
       "    .dataframe thead th {\n",
       "        text-align: right;\n",
       "    }\n",
       "</style>\n",
       "<table border=\"1\" class=\"dataframe\">\n",
       "  <thead>\n",
       "    <tr style=\"text-align: right;\">\n",
       "      <th></th>\n",
       "      <th>Survived</th>\n",
       "      <th>Pclass</th>\n",
       "      <th>Age</th>\n",
       "      <th>SibSp</th>\n",
       "      <th>Parch</th>\n",
       "      <th>Fare</th>\n",
       "      <th>Sex_female</th>\n",
       "      <th>Sex_male</th>\n",
       "      <th>Embarked_C</th>\n",
       "      <th>Embarked_Q</th>\n",
       "      <th>Embarked_S</th>\n",
       "    </tr>\n",
       "  </thead>\n",
       "  <tbody>\n",
       "    <tr>\n",
       "      <th>0</th>\n",
       "      <td>0</td>\n",
       "      <td>3</td>\n",
       "      <td>22.0</td>\n",
       "      <td>1</td>\n",
       "      <td>0</td>\n",
       "      <td>7.2500</td>\n",
       "      <td>0</td>\n",
       "      <td>1</td>\n",
       "      <td>0</td>\n",
       "      <td>0</td>\n",
       "      <td>1</td>\n",
       "    </tr>\n",
       "    <tr>\n",
       "      <th>1</th>\n",
       "      <td>1</td>\n",
       "      <td>1</td>\n",
       "      <td>38.0</td>\n",
       "      <td>1</td>\n",
       "      <td>0</td>\n",
       "      <td>71.2833</td>\n",
       "      <td>1</td>\n",
       "      <td>0</td>\n",
       "      <td>1</td>\n",
       "      <td>0</td>\n",
       "      <td>0</td>\n",
       "    </tr>\n",
       "    <tr>\n",
       "      <th>2</th>\n",
       "      <td>1</td>\n",
       "      <td>3</td>\n",
       "      <td>26.0</td>\n",
       "      <td>0</td>\n",
       "      <td>0</td>\n",
       "      <td>7.9250</td>\n",
       "      <td>1</td>\n",
       "      <td>0</td>\n",
       "      <td>0</td>\n",
       "      <td>0</td>\n",
       "      <td>1</td>\n",
       "    </tr>\n",
       "    <tr>\n",
       "      <th>3</th>\n",
       "      <td>1</td>\n",
       "      <td>1</td>\n",
       "      <td>35.0</td>\n",
       "      <td>1</td>\n",
       "      <td>0</td>\n",
       "      <td>53.1000</td>\n",
       "      <td>1</td>\n",
       "      <td>0</td>\n",
       "      <td>0</td>\n",
       "      <td>0</td>\n",
       "      <td>1</td>\n",
       "    </tr>\n",
       "    <tr>\n",
       "      <th>4</th>\n",
       "      <td>0</td>\n",
       "      <td>3</td>\n",
       "      <td>35.0</td>\n",
       "      <td>0</td>\n",
       "      <td>0</td>\n",
       "      <td>8.0500</td>\n",
       "      <td>0</td>\n",
       "      <td>1</td>\n",
       "      <td>0</td>\n",
       "      <td>0</td>\n",
       "      <td>1</td>\n",
       "    </tr>\n",
       "  </tbody>\n",
       "</table>\n",
       "</div>"
      ],
      "text/plain": [
       "   Survived  Pclass   Age  SibSp  Parch     Fare  Sex_female  Sex_male  \\\n",
       "0         0       3  22.0      1      0   7.2500           0         1   \n",
       "1         1       1  38.0      1      0  71.2833           1         0   \n",
       "2         1       3  26.0      0      0   7.9250           1         0   \n",
       "3         1       1  35.0      1      0  53.1000           1         0   \n",
       "4         0       3  35.0      0      0   8.0500           0         1   \n",
       "\n",
       "   Embarked_C  Embarked_Q  Embarked_S  \n",
       "0           0           0           1  \n",
       "1           1           0           0  \n",
       "2           0           0           1  \n",
       "3           0           0           1  \n",
       "4           0           0           1  "
      ]
     },
     "execution_count": 15,
     "metadata": {},
     "output_type": "execute_result"
    }
   ],
   "source": [
    "t2.head()"
   ]
  },
  {
   "cell_type": "code",
   "execution_count": 17,
   "id": "08b470ce",
   "metadata": {},
   "outputs": [],
   "source": [
    "X = t2.iloc[:,1:]\n",
    "Y = t2.iloc[:,0]"
   ]
  },
  {
   "cell_type": "code",
   "execution_count": 18,
   "id": "0f5adfb6",
   "metadata": {},
   "outputs": [
    {
     "name": "stdout",
     "output_type": "stream",
     "text": [
      "[0.10395983 0.24729223 0.04364653 0.0438135  0.23306865 0.15508722\n",
      " 0.14523495 0.01153173 0.00622766 0.0101377 ]\n"
     ]
    },
    {
     "data": {
      "image/png": "[encoded data removed]",
      "text/plain": [
       "<Figure size 432x288 with 1 Axes>"
      ]
     },
     "metadata": {
      "needs_background": "light"
     },
     "output_type": "display_data"
    }
   ],
   "source": [
    "#import pandas as pd\n",
    "#import numpy as np\n",
    "#data = pd.read_csv(\"C://Users//Intel//Documents//mobile_price_train.csv\")\n",
    "#a = zoo.iloc[:,1:-1]  #independent variable columns\n",
    "#b = zoo.iloc[:,-1]    #target variable column (price range)\n",
    "from sklearn.ensemble import ExtraTreesClassifier\n",
    "import matplotlib.pyplot as plt\n",
    "model = ExtraTreesClassifier()\n",
    "model.fit(X,Y)\n",
    "print(model.feature_importances_) \n",
    " \n",
    "#plot the graph of feature importances \n",
    "feat_importances = pd.Series(model.feature_importances_, index=X.columns)\n",
    "feat_importances.nlargest(17).plot(kind='barh')\n",
    "plt.show()"
   ]
  },
  {
   "cell_type": "markdown",
   "id": "988ae469",
   "metadata": {},
   "source": [
    "### Importing test data"
   ]
  },
  {
   "cell_type": "code",
   "execution_count": 19,
   "id": "43c4a66a",
   "metadata": {},
   "outputs": [
    {
     "data": {
      "text/html": [
       "<div>\n",
       "<style scoped>\n",
       "    .dataframe tbody tr th:only-of-type {\n",
       "        vertical-align: middle;\n",
       "    }\n",
       "\n",
       "    .dataframe tbody tr th {\n",
       "        vertical-align: top;\n",
       "    }\n",
       "\n",
       "    .dataframe thead th {\n",
       "        text-align: right;\n",
       "    }\n",
       "</style>\n",
       "<table border=\"1\" class=\"dataframe\">\n",
       "  <thead>\n",
       "    <tr style=\"text-align: right;\">\n",
       "      <th></th>\n",
       "      <th>PassengerId</th>\n",
       "      <th>Pclass</th>\n",
       "      <th>Name</th>\n",
       "      <th>Sex</th>\n",
       "      <th>Age</th>\n",
       "      <th>SibSp</th>\n",
       "      <th>Parch</th>\n",
       "      <th>Ticket</th>\n",
       "      <th>Fare</th>\n",
       "      <th>Cabin</th>\n",
       "      <th>Embarked</th>\n",
       "    </tr>\n",
       "  </thead>\n",
       "  <tbody>\n",
       "    <tr>\n",
       "      <th>0</th>\n",
       "      <td>892</td>\n",
       "      <td>3</td>\n",
       "      <td>Kelly, Mr. James</td>\n",
       "      <td>male</td>\n",
       "      <td>34.5</td>\n",
       "      <td>0</td>\n",
       "      <td>0</td>\n",
       "      <td>330911</td>\n",
       "      <td>7.8292</td>\n",
       "      <td>NaN</td>\n",
       "      <td>Q</td>\n",
       "    </tr>\n",
       "    <tr>\n",
       "      <th>1</th>\n",
       "      <td>893</td>\n",
       "      <td>3</td>\n",
       "      <td>Wilkes, Mrs. James (Ellen Needs)</td>\n",
       "      <td>female</td>\n",
       "      <td>47.0</td>\n",
       "      <td>1</td>\n",
       "      <td>0</td>\n",
       "      <td>363272</td>\n",
       "      <td>7.0000</td>\n",
       "      <td>NaN</td>\n",
       "      <td>S</td>\n",
       "    </tr>\n",
       "    <tr>\n",
       "      <th>2</th>\n",
       "      <td>894</td>\n",
       "      <td>2</td>\n",
       "      <td>Myles, Mr. Thomas Francis</td>\n",
       "      <td>male</td>\n",
       "      <td>62.0</td>\n",
       "      <td>0</td>\n",
       "      <td>0</td>\n",
       "      <td>240276</td>\n",
       "      <td>9.6875</td>\n",
       "      <td>NaN</td>\n",
       "      <td>Q</td>\n",
       "    </tr>\n",
       "    <tr>\n",
       "      <th>3</th>\n",
       "      <td>895</td>\n",
       "      <td>3</td>\n",
       "      <td>Wirz, Mr. Albert</td>\n",
       "      <td>male</td>\n",
       "      <td>27.0</td>\n",
       "      <td>0</td>\n",
       "      <td>0</td>\n",
       "      <td>315154</td>\n",
       "      <td>8.6625</td>\n",
       "      <td>NaN</td>\n",
       "      <td>S</td>\n",
       "    </tr>\n",
       "    <tr>\n",
       "      <th>4</th>\n",
       "      <td>896</td>\n",
       "      <td>3</td>\n",
       "      <td>Hirvonen, Mrs. Alexander (Helga E Lindqvist)</td>\n",
       "      <td>female</td>\n",
       "      <td>22.0</td>\n",
       "      <td>1</td>\n",
       "      <td>1</td>\n",
       "      <td>3101298</td>\n",
       "      <td>12.2875</td>\n",
       "      <td>NaN</td>\n",
       "      <td>S</td>\n",
       "    </tr>\n",
       "  </tbody>\n",
       "</table>\n",
       "</div>"
      ],
      "text/plain": [
       "   PassengerId  Pclass                                          Name     Sex  \\\n",
       "0          892       3                              Kelly, Mr. James    male   \n",
       "1          893       3              Wilkes, Mrs. James (Ellen Needs)  female   \n",
       "2          894       2                     Myles, Mr. Thomas Francis    male   \n",
       "3          895       3                              Wirz, Mr. Albert    male   \n",
       "4          896       3  Hirvonen, Mrs. Alexander (Helga E Lindqvist)  female   \n",
       "\n",
       "    Age  SibSp  Parch   Ticket     Fare Cabin Embarked  \n",
       "0  34.5      0      0   330911   7.8292   NaN        Q  \n",
       "1  47.0      1      0   363272   7.0000   NaN        S  \n",
       "2  62.0      0      0   240276   9.6875   NaN        Q  \n",
       "3  27.0      0      0   315154   8.6625   NaN        S  \n",
       "4  22.0      1      1  3101298  12.2875   NaN        S  "
      ]
     },
     "execution_count": 19,
     "metadata": {},
     "output_type": "execute_result"
    }
   ],
   "source": [
    "te = pd.read_csv(\"E:\\\\Kaggle Projects\\\\test.csv\")\n",
    "te.head()"
   ]
  },
  {
   "cell_type": "code",
   "execution_count": 20,
   "id": "2c8a1bd1",
   "metadata": {},
   "outputs": [
    {
     "data": {
      "text/plain": [
       "PassengerId      0\n",
       "Pclass           0\n",
       "Name             0\n",
       "Sex              0\n",
       "Age             86\n",
       "SibSp            0\n",
       "Parch            0\n",
       "Ticket           0\n",
       "Fare             1\n",
       "Cabin          327\n",
       "Embarked         0\n",
       "dtype: int64"
      ]
     },
     "execution_count": 20,
     "metadata": {},
     "output_type": "execute_result"
    }
   ],
   "source": [
    "te.isnull().sum()"
   ]
  },
  {
   "cell_type": "code",
   "execution_count": 21,
   "id": "37ced86a",
   "metadata": {},
   "outputs": [],
   "source": [
    "te1 = te.drop(['PassengerId','Name','Ticket','Cabin'],axis=1)"
   ]
  },
  {
   "cell_type": "code",
   "execution_count": 22,
   "id": "276df2c7",
   "metadata": {},
   "outputs": [],
   "source": [
    "te1.iloc[:,2].replace(np.nan,np.mean(te1['Age']),inplace=True)\n",
    "te1.iloc[:,5].replace(np.nan,0,inplace=True)"
   ]
  },
  {
   "cell_type": "code",
   "execution_count": 23,
   "id": "cc1a7a58",
   "metadata": {},
   "outputs": [],
   "source": [
    "te2 = pd.get_dummies(te1,columns=['Sex','Embarked'])"
   ]
  },
  {
   "cell_type": "code",
   "execution_count": 24,
   "id": "a48507ae",
   "metadata": {},
   "outputs": [
    {
     "data": {
      "text/html": [
       "<div>\n",
       "<style scoped>\n",
       "    .dataframe tbody tr th:only-of-type {\n",
       "        vertical-align: middle;\n",
       "    }\n",
       "\n",
       "    .dataframe tbody tr th {\n",
       "        vertical-align: top;\n",
       "    }\n",
       "\n",
       "    .dataframe thead th {\n",
       "        text-align: right;\n",
       "    }\n",
       "</style>\n",
       "<table border=\"1\" class=\"dataframe\">\n",
       "  <thead>\n",
       "    <tr style=\"text-align: right;\">\n",
       "      <th></th>\n",
       "      <th>Pclass</th>\n",
       "      <th>Age</th>\n",
       "      <th>SibSp</th>\n",
       "      <th>Parch</th>\n",
       "      <th>Fare</th>\n",
       "      <th>Sex_female</th>\n",
       "      <th>Sex_male</th>\n",
       "      <th>Embarked_C</th>\n",
       "      <th>Embarked_Q</th>\n",
       "      <th>Embarked_S</th>\n",
       "    </tr>\n",
       "  </thead>\n",
       "  <tbody>\n",
       "    <tr>\n",
       "      <th>0</th>\n",
       "      <td>3</td>\n",
       "      <td>34.50000</td>\n",
       "      <td>0</td>\n",
       "      <td>0</td>\n",
       "      <td>7.8292</td>\n",
       "      <td>0</td>\n",
       "      <td>1</td>\n",
       "      <td>0</td>\n",
       "      <td>1</td>\n",
       "      <td>0</td>\n",
       "    </tr>\n",
       "    <tr>\n",
       "      <th>1</th>\n",
       "      <td>3</td>\n",
       "      <td>47.00000</td>\n",
       "      <td>1</td>\n",
       "      <td>0</td>\n",
       "      <td>7.0000</td>\n",
       "      <td>1</td>\n",
       "      <td>0</td>\n",
       "      <td>0</td>\n",
       "      <td>0</td>\n",
       "      <td>1</td>\n",
       "    </tr>\n",
       "    <tr>\n",
       "      <th>2</th>\n",
       "      <td>2</td>\n",
       "      <td>62.00000</td>\n",
       "      <td>0</td>\n",
       "      <td>0</td>\n",
       "      <td>9.6875</td>\n",
       "      <td>0</td>\n",
       "      <td>1</td>\n",
       "      <td>0</td>\n",
       "      <td>1</td>\n",
       "      <td>0</td>\n",
       "    </tr>\n",
       "    <tr>\n",
       "      <th>3</th>\n",
       "      <td>3</td>\n",
       "      <td>27.00000</td>\n",
       "      <td>0</td>\n",
       "      <td>0</td>\n",
       "      <td>8.6625</td>\n",
       "      <td>0</td>\n",
       "      <td>1</td>\n",
       "      <td>0</td>\n",
       "      <td>0</td>\n",
       "      <td>1</td>\n",
       "    </tr>\n",
       "    <tr>\n",
       "      <th>4</th>\n",
       "      <td>3</td>\n",
       "      <td>22.00000</td>\n",
       "      <td>1</td>\n",
       "      <td>1</td>\n",
       "      <td>12.2875</td>\n",
       "      <td>1</td>\n",
       "      <td>0</td>\n",
       "      <td>0</td>\n",
       "      <td>0</td>\n",
       "      <td>1</td>\n",
       "    </tr>\n",
       "    <tr>\n",
       "      <th>...</th>\n",
       "      <td>...</td>\n",
       "      <td>...</td>\n",
       "      <td>...</td>\n",
       "      <td>...</td>\n",
       "      <td>...</td>\n",
       "      <td>...</td>\n",
       "      <td>...</td>\n",
       "      <td>...</td>\n",
       "      <td>...</td>\n",
       "      <td>...</td>\n",
       "    </tr>\n",
       "    <tr>\n",
       "      <th>413</th>\n",
       "      <td>3</td>\n",
       "      <td>30.27259</td>\n",
       "      <td>0</td>\n",
       "      <td>0</td>\n",
       "      <td>8.0500</td>\n",
       "      <td>0</td>\n",
       "      <td>1</td>\n",
       "      <td>0</td>\n",
       "      <td>0</td>\n",
       "      <td>1</td>\n",
       "    </tr>\n",
       "    <tr>\n",
       "      <th>414</th>\n",
       "      <td>1</td>\n",
       "      <td>39.00000</td>\n",
       "      <td>0</td>\n",
       "      <td>0</td>\n",
       "      <td>108.9000</td>\n",
       "      <td>1</td>\n",
       "      <td>0</td>\n",
       "      <td>1</td>\n",
       "      <td>0</td>\n",
       "      <td>0</td>\n",
       "    </tr>\n",
       "    <tr>\n",
       "      <th>415</th>\n",
       "      <td>3</td>\n",
       "      <td>38.50000</td>\n",
       "      <td>0</td>\n",
       "      <td>0</td>\n",
       "      <td>7.2500</td>\n",
       "      <td>0</td>\n",
       "      <td>1</td>\n",
       "      <td>0</td>\n",
       "      <td>0</td>\n",
       "      <td>1</td>\n",
       "    </tr>\n",
       "    <tr>\n",
       "      <th>416</th>\n",
       "      <td>3</td>\n",
       "      <td>30.27259</td>\n",
       "      <td>0</td>\n",
       "      <td>0</td>\n",
       "      <td>8.0500</td>\n",
       "      <td>0</td>\n",
       "      <td>1</td>\n",
       "      <td>0</td>\n",
       "      <td>0</td>\n",
       "      <td>1</td>\n",
       "    </tr>\n",
       "    <tr>\n",
       "      <th>417</th>\n",
       "      <td>3</td>\n",
       "      <td>30.27259</td>\n",
       "      <td>1</td>\n",
       "      <td>1</td>\n",
       "      <td>22.3583</td>\n",
       "      <td>0</td>\n",
       "      <td>1</td>\n",
       "      <td>1</td>\n",
       "      <td>0</td>\n",
       "      <td>0</td>\n",
       "    </tr>\n",
       "  </tbody>\n",
       "</table>\n",
       "<p>418 rows × 10 columns</p>\n",
       "</div>"
      ],
      "text/plain": [
       "     Pclass       Age  SibSp  Parch      Fare  Sex_female  Sex_male  \\\n",
       "0         3  34.50000      0      0    7.8292           0         1   \n",
       "1         3  47.00000      1      0    7.0000           1         0   \n",
       "2         2  62.00000      0      0    9.6875           0         1   \n",
       "3         3  27.00000      0      0    8.6625           0         1   \n",
       "4         3  22.00000      1      1   12.2875           1         0   \n",
       "..      ...       ...    ...    ...       ...         ...       ...   \n",
       "413       3  30.27259      0      0    8.0500           0         1   \n",
       "414       1  39.00000      0      0  108.9000           1         0   \n",
       "415       3  38.50000      0      0    7.2500           0         1   \n",
       "416       3  30.27259      0      0    8.0500           0         1   \n",
       "417       3  30.27259      1      1   22.3583           0         1   \n",
       "\n",
       "     Embarked_C  Embarked_Q  Embarked_S  \n",
       "0             0           1           0  \n",
       "1             0           0           1  \n",
       "2             0           1           0  \n",
       "3             0           0           1  \n",
       "4             0           0           1  \n",
       "..          ...         ...         ...  \n",
       "413           0           0           1  \n",
       "414           1           0           0  \n",
       "415           0           0           1  \n",
       "416           0           0           1  \n",
       "417           1           0           0  \n",
       "\n",
       "[418 rows x 10 columns]"
      ]
     },
     "execution_count": 24,
     "metadata": {},
     "output_type": "execute_result"
    }
   ],
   "source": [
    "te2"
   ]
  },
  {
   "cell_type": "code",
   "execution_count": 25,
   "id": "a0da540f",
   "metadata": {},
   "outputs": [
    {
     "data": {
      "text/plain": [
       "(418, 10)"
      ]
     },
     "execution_count": 25,
     "metadata": {},
     "output_type": "execute_result"
    }
   ],
   "source": [
    "te2.shape"
   ]
  },
  {
   "cell_type": "code",
   "execution_count": 26,
   "id": "13b7dcdd",
   "metadata": {},
   "outputs": [],
   "source": [
    "x_te = te2.values"
   ]
  },
  {
   "cell_type": "code",
   "execution_count": 27,
   "id": "6feda25d",
   "metadata": {},
   "outputs": [
    {
     "data": {
      "text/plain": [
       "(891, 11)"
      ]
     },
     "execution_count": 27,
     "metadata": {},
     "output_type": "execute_result"
    }
   ],
   "source": [
    "t2.shape"
   ]
  },
  {
   "cell_type": "markdown",
   "id": "123d9d6c",
   "metadata": {},
   "source": [
    "## Visualization "
   ]
  },
  {
   "cell_type": "code",
   "execution_count": 28,
   "id": "76d70c0f",
   "metadata": {},
   "outputs": [
    {
     "data": {
      "text/plain": [
       "<seaborn.axisgrid.PairGrid at 0x237b74804f0>"
      ]
     },
     "execution_count": 28,
     "metadata": {},
     "output_type": "execute_result"
    },
    {
     "data": {
      "image/png": "[encoded data removed]",
      "text/plain": [
       "<Figure size 1260x1260 with 56 Axes>"
      ]
     },
     "metadata": {
      "needs_background": "light"
     },
     "output_type": "display_data"
    }
   ],
   "source": [
    "sns.pairplot(t)"
   ]
  },
  {
   "cell_type": "code",
   "execution_count": 29,
   "id": "c886825f",
   "metadata": {},
   "outputs": [
    {
     "data": {
      "text/plain": [
       "<AxesSubplot:>"
      ]
     },
     "execution_count": 29,
     "metadata": {},
     "output_type": "execute_result"
    },
    {
     "data": {
      "image/png": "[encoded data removed]",
      "text/plain": [
       "<Figure size 432x288 with 2 Axes>"
      ]
     },
     "metadata": {
      "needs_background": "light"
     },
     "output_type": "display_data"
    }
   ],
   "source": [
    "sns.heatmap(t.corr(),annot=True)"
   ]
  },
  {
   "cell_type": "code",
   "execution_count": 32,
   "id": "79faa324",
   "metadata": {},
   "outputs": [
    {
     "data": {
      "text/plain": [
       "<AxesSubplot:xlabel='Sex_male', ylabel='Survived'>"
      ]
     },
     "execution_count": 32,
     "metadata": {},
     "output_type": "execute_result"
    },
    {
     "data": {
      "image/png": "[encoded data removed]",
      "text/plain": [
       "<Figure size 432x288 with 1 Axes>"
      ]
     },
     "metadata": {
      "needs_background": "light"
     },
     "output_type": "display_data"
    }
   ],
   "source": [
    "sns.regplot(t2['Sex_male'],t2['Survived'])"
   ]
  },
  {
   "cell_type": "code",
   "execution_count": 33,
   "id": "596f66e1",
   "metadata": {},
   "outputs": [
    {
     "data": {
      "text/plain": [
       "<AxesSubplot:xlabel='Sex_female', ylabel='Survived'>"
      ]
     },
     "execution_count": 33,
     "metadata": {},
     "output_type": "execute_result"
    },
    {
     "data": {
      "image/png": "[encoded data removed]",
      "text/plain": [
       "<Figure size 432x288 with 1 Axes>"
      ]
     },
     "metadata": {
      "needs_background": "light"
     },
     "output_type": "display_data"
    }
   ],
   "source": [
    "sns.regplot(t2['Sex_female'],t2['Survived'])"
   ]
  },
  {
   "cell_type": "code",
   "execution_count": 34,
   "id": "24228c7f",
   "metadata": {},
   "outputs": [
    {
     "data": {
      "text/plain": [
       "<AxesSubplot:xlabel='Fare', ylabel='Survived'>"
      ]
     },
     "execution_count": 34,
     "metadata": {},
     "output_type": "execute_result"
    },
    {
     "data": {
      "image/png": "[encoded data removed]",
      "text/plain": [
       "<Figure size 432x288 with 1 Axes>"
      ]
     },
     "metadata": {
      "needs_background": "light"
     },
     "output_type": "display_data"
    }
   ],
   "source": [
    "sns.regplot(t2['Fare'],t2['Survived'])"
   ]
  },
  {
   "cell_type": "code",
   "execution_count": 35,
   "id": "ea329343",
   "metadata": {},
   "outputs": [
    {
     "data": {
      "text/plain": [
       "<AxesSubplot:xlabel='Age', ylabel='Survived'>"
      ]
     },
     "execution_count": 35,
     "metadata": {},
     "output_type": "execute_result"
    },
    {
     "data": {
      "image/png": "[encoded data removed]",
      "text/plain": [
       "<Figure size 432x288 with 1 Axes>"
      ]
     },
     "metadata": {
      "needs_background": "light"
     },
     "output_type": "display_data"
    }
   ],
   "source": [
    "sns.regplot(t2['Age'],t2['Survived'])"
   ]
  },
  {
   "cell_type": "code",
   "execution_count": 36,
   "id": "9fcf2a31",
   "metadata": {},
   "outputs": [
    {
     "data": {
      "text/plain": [
       "<matplotlib.collections.PathCollection at 0x237c088c460>"
      ]
     },
     "execution_count": 36,
     "metadata": {},
     "output_type": "execute_result"
    },
    {
     "data": {
      "image/png": "[encoded data removed]",
      "text/plain": [
       "<Figure size 432x288 with 1 Axes>"
      ]
     },
     "metadata": {
      "needs_background": "light"
     },
     "output_type": "display_data"
    }
   ],
   "source": [
    "plt.scatter(t2['Parch'],t2['SibSp'])"
   ]
  },
  {
   "cell_type": "code",
   "execution_count": 37,
   "id": "54f35a43",
   "metadata": {},
   "outputs": [
    {
     "data": {
      "image/png": "[encoded data removed]",
      "text/plain": [
       "<Figure size 432x288 with 1 Axes>"
      ]
     },
     "metadata": {
      "needs_background": "light"
     },
     "output_type": "display_data"
    }
   ],
   "source": [
    "plt.xlabel('Parch')\n",
    "plt.ylabel('Survived')\n",
    "plt.scatter(t2['Parch'],t2['Survived'])\n",
    "plt.show()"
   ]
  },
  {
   "cell_type": "code",
   "execution_count": 38,
   "id": "8ff32423",
   "metadata": {},
   "outputs": [
    {
     "data": {
      "text/plain": [
       "<AxesSubplot:xlabel='SibSp', ylabel='Survived'>"
      ]
     },
     "execution_count": 38,
     "metadata": {},
     "output_type": "execute_result"
    },
    {
     "data": {
      "image/png": "[encoded data removed]",
      "text/plain": [
       "<Figure size 432x288 with 1 Axes>"
      ]
     },
     "metadata": {
      "needs_background": "light"
     },
     "output_type": "display_data"
    }
   ],
   "source": [
    "sns.regplot(t2['SibSp'],t2['Survived'])"
   ]
  },
  {
   "cell_type": "code",
   "execution_count": 39,
   "id": "bc16d614",
   "metadata": {},
   "outputs": [
    {
     "data": {
      "text/plain": [
       "<AxesSubplot:xlabel='Pclass', ylabel='Survived'>"
      ]
     },
     "execution_count": 39,
     "metadata": {},
     "output_type": "execute_result"
    },
    {
     "data": {
      "image/png": "[encoded data removed]",
      "text/plain": [
       "<Figure size 432x288 with 1 Axes>"
      ]
     },
     "metadata": {
      "needs_background": "light"
     },
     "output_type": "display_data"
    }
   ],
   "source": [
    "sns.regplot(t2['Pclass'],t2['Survived'])"
   ]
  },
  {
   "cell_type": "code",
   "execution_count": 40,
   "id": "23f33ac5",
   "metadata": {},
   "outputs": [
    {
     "data": {
      "text/plain": [
       "<AxesSubplot:ylabel='Density'>"
      ]
     },
     "execution_count": 40,
     "metadata": {},
     "output_type": "execute_result"
    },
    {
     "data": {
      "image/png": "[encoded data removed]",
      "text/plain": [
       "<Figure size 432x288 with 1 Axes>"
      ]
     },
     "metadata": {
      "needs_background": "light"
     },
     "output_type": "display_data"
    }
   ],
   "source": [
    "sns.distplot(t2)"
   ]
  },
  {
   "cell_type": "markdown",
   "id": "e9a9453f",
   "metadata": {},
   "source": [
    "## Normalization"
   ]
  },
  {
   "cell_type": "code",
   "execution_count": 41,
   "id": "56469373",
   "metadata": {},
   "outputs": [
    {
     "data": {
      "text/plain": [
       "array([[ 0.82737724, -0.5924806 ,  0.43279337, ..., -0.48204268,\n",
       "        -0.30756234,  0.61930636],\n",
       "       [-1.56610693,  0.63878901,  0.43279337, ...,  2.0745051 ,\n",
       "        -0.30756234, -1.61470971],\n",
       "       [ 0.82737724, -0.2846632 , -0.4745452 , ..., -0.48204268,\n",
       "        -0.30756234,  0.61930636],\n",
       "       ...,\n",
       "       [ 0.82737724,  0.        ,  0.43279337, ..., -0.48204268,\n",
       "        -0.30756234,  0.61930636],\n",
       "       [-1.56610693, -0.2846632 , -0.4745452 , ...,  2.0745051 ,\n",
       "        -0.30756234, -1.61470971],\n",
       "       [ 0.82737724,  0.17706291, -0.4745452 , ..., -0.48204268,\n",
       "         3.25137334, -1.61470971]])"
      ]
     },
     "execution_count": 41,
     "metadata": {},
     "output_type": "execute_result"
    }
   ],
   "source": [
    "from sklearn.preprocessing import StandardScaler\n",
    "scaler= StandardScaler()\n",
    "X_train = scaler.fit_transform(X)\n",
    "X_train"
   ]
  },
  {
   "cell_type": "code",
   "execution_count": 42,
   "id": "768e9988",
   "metadata": {},
   "outputs": [
    {
     "data": {
      "text/plain": [
       "(891, 11)"
      ]
     },
     "execution_count": 42,
     "metadata": {},
     "output_type": "execute_result"
    }
   ],
   "source": [
    "t2.shape"
   ]
  },
  {
   "cell_type": "code",
   "execution_count": 43,
   "id": "a3cb4fff",
   "metadata": {},
   "outputs": [
    {
     "data": {
      "text/plain": [
       "0    549\n",
       "1    342\n",
       "Name: Survived, dtype: int64"
      ]
     },
     "execution_count": 43,
     "metadata": {},
     "output_type": "execute_result"
    }
   ],
   "source": [
    "Y.value_counts()"
   ]
  },
  {
   "cell_type": "code",
   "execution_count": 44,
   "id": "c20be848",
   "metadata": {},
   "outputs": [],
   "source": [
    "x_train = scaler.fit_transform(te2)"
   ]
  },
  {
   "cell_type": "code",
   "execution_count": 45,
   "id": "63d10b28",
   "metadata": {},
   "outputs": [],
   "source": [
    "from sklearn.model_selection import KFold\n",
    "from sklearn.model_selection import cross_val_score\n",
    "from sklearn.linear_model import LogisticRegression"
   ]
  },
  {
   "cell_type": "code",
   "execution_count": 46,
   "id": "e54a9221",
   "metadata": {},
   "outputs": [],
   "source": [
    "kfold = KFold(n_splits=10, random_state=7,shuffle=True)"
   ]
  },
  {
   "cell_type": "markdown",
   "id": "bddd1181",
   "metadata": {},
   "source": [
    "## SVC"
   ]
  },
  {
   "cell_type": "code",
   "execution_count": 47,
   "id": "86f960fe",
   "metadata": {},
   "outputs": [
    {
     "data": {
      "text/html": [
       "<style>#sk-container-id-1 {color: black;background-color: white;}#sk-container-id-1 pre{padding: 0;}#sk-container-id-1 div.sk-toggleable {background-color: white;}#sk-container-id-1 label.sk-toggleable__label {cursor: pointer;display: block;width: 100%;margin-bottom: 0;padding: 0.3em;box-sizing: border-box;text-align: center;}#sk-container-id-1 label.sk-toggleable__label-arrow:before {content: \"▸\";float: left;margin-right: 0.25em;color: #696969;}#sk-container-id-1 label.sk-toggleable__label-arrow:hover:before {color: black;}#sk-container-id-1 div.sk-estimator:hover label.sk-toggleable__label-arrow:before {color: black;}#sk-container-id-1 div.sk-toggleable__content {max-height: 0;max-width: 0;overflow: hidden;text-align: left;background-color: #f0f8ff;}#sk-container-id-1 div.sk-toggleable__content pre {margin: 0.2em;color: black;border-radius: 0.25em;background-color: #f0f8ff;}#sk-container-id-1 input.sk-toggleable__control:checked~div.sk-toggleable__content {max-height: 200px;max-width: 100%;overflow: auto;}#sk-container-id-1 input.sk-toggleable__control:checked~label.sk-toggleable__label-arrow:before {content: \"▾\";}#sk-container-id-1 div.sk-estimator input.sk-toggleable__control:checked~label.sk-toggleable__label {background-color: #d4ebff;}#sk-container-id-1 div.sk-label input.sk-toggleable__control:checked~label.sk-toggleable__label {background-color: #d4ebff;}#sk-container-id-1 input.sk-hidden--visually {border: 0;clip: rect(1px 1px 1px 1px);clip: rect(1px, 1px, 1px, 1px);height: 1px;margin: -1px;overflow: hidden;padding: 0;position: absolute;width: 1px;}#sk-container-id-1 div.sk-estimator {font-family: monospace;background-color: #f0f8ff;border: 1px dotted black;border-radius: 0.25em;box-sizing: border-box;margin-bottom: 0.5em;}#sk-container-id-1 div.sk-estimator:hover {background-color: #d4ebff;}#sk-container-id-1 div.sk-parallel-item::after {content: \"\";width: 100%;border-bottom: 1px solid gray;flex-grow: 1;}#sk-container-id-1 div.sk-label:hover label.sk-toggleable__label {background-color: #d4ebff;}#sk-container-id-1 div.sk-serial::before {content: \"\";position: absolute;border-left: 1px solid gray;box-sizing: border-box;top: 0;bottom: 0;left: 50%;z-index: 0;}#sk-container-id-1 div.sk-serial {display: flex;flex-direction: column;align-items: center;background-color: white;padding-right: 0.2em;padding-left: 0.2em;position: relative;}#sk-container-id-1 div.sk-item {position: relative;z-index: 1;}#sk-container-id-1 div.sk-parallel {display: flex;align-items: stretch;justify-content: center;background-color: white;position: relative;}#sk-container-id-1 div.sk-item::before, #sk-container-id-1 div.sk-parallel-item::before {content: \"\";position: absolute;border-left: 1px solid gray;box-sizing: border-box;top: 0;bottom: 0;left: 50%;z-index: -1;}#sk-container-id-1 div.sk-parallel-item {display: flex;flex-direction: column;z-index: 1;position: relative;background-color: white;}#sk-container-id-1 div.sk-parallel-item:first-child::after {align-self: flex-end;width: 50%;}#sk-container-id-1 div.sk-parallel-item:last-child::after {align-self: flex-start;width: 50%;}#sk-container-id-1 div.sk-parallel-item:only-child::after {width: 0;}#sk-container-id-1 div.sk-dashed-wrapped {border: 1px dashed gray;margin: 0 0.4em 0.5em 0.4em;box-sizing: border-box;padding-bottom: 0.4em;background-color: white;}#sk-container-id-1 div.sk-label label {font-family: monospace;font-weight: bold;display: inline-block;line-height: 1.2em;}#sk-container-id-1 div.sk-label-container {text-align: center;}#sk-container-id-1 div.sk-container {/* jupyter's `normalize.less` sets `[hidden] { display: none; }` but bootstrap.min.css set `[hidden] { display: none !important; }` so we also need the `!important` here to be able to override the default hidden behavior on the sphinx rendered scikit-learn.org. See: https://github.com/scikit-learn/scikit-learn/issues/21755 */display: inline-block !important;position: relative;}#sk-container-id-1 div.sk-text-repr-fallback {display: none;}</style><div id=\"sk-container-id-1\" class=\"sk-top-container\"><div class=\"sk-text-repr-fallback\"><pre>GridSearchCV(cv=10, estimator=SVC(),\n",
       "             param_grid=[{&#x27;C&#x27;: [1, 10, 50, 100],\n",
       "                          &#x27;gamma&#x27;: [0.5, 0.1, 0.01, 0.001, 0.0001],\n",
       "                          &#x27;kernel&#x27;: [&#x27;rbf&#x27;]}])</pre><b>In a Jupyter environment, please rerun this cell to show the HTML representation or trust the notebook. <br />On GitHub, the HTML representation is unable to render, please try loading this page with nbviewer.org.</b></div><div class=\"sk-container\" hidden><div class=\"sk-item sk-dashed-wrapped\"><div class=\"sk-label-container\"><div class=\"sk-label sk-toggleable\"><input class=\"sk-toggleable__control sk-hidden--visually\" id=\"sk-estimator-id-1\" type=\"checkbox\" ><label for=\"sk-estimator-id-1\" class=\"sk-toggleable__label sk-toggleable__label-arrow\">GridSearchCV</label><div class=\"sk-toggleable__content\"><pre>GridSearchCV(cv=10, estimator=SVC(),\n",
       "             param_grid=[{&#x27;C&#x27;: [1, 10, 50, 100],\n",
       "                          &#x27;gamma&#x27;: [0.5, 0.1, 0.01, 0.001, 0.0001],\n",
       "                          &#x27;kernel&#x27;: [&#x27;rbf&#x27;]}])</pre></div></div></div><div class=\"sk-parallel\"><div class=\"sk-parallel-item\"><div class=\"sk-item\"><div class=\"sk-label-container\"><div class=\"sk-label sk-toggleable\"><input class=\"sk-toggleable__control sk-hidden--visually\" id=\"sk-estimator-id-2\" type=\"checkbox\" ><label for=\"sk-estimator-id-2\" class=\"sk-toggleable__label sk-toggleable__label-arrow\">estimator: SVC</label><div class=\"sk-toggleable__content\"><pre>SVC()</pre></div></div></div><div class=\"sk-serial\"><div class=\"sk-item\"><div class=\"sk-estimator sk-toggleable\"><input class=\"sk-toggleable__control sk-hidden--visually\" id=\"sk-estimator-id-3\" type=\"checkbox\" ><label for=\"sk-estimator-id-3\" class=\"sk-toggleable__label sk-toggleable__label-arrow\">SVC</label><div class=\"sk-toggleable__content\"><pre>SVC()</pre></div></div></div></div></div></div></div></div></div></div>"
      ],
      "text/plain": [
       "GridSearchCV(cv=10, estimator=SVC(),\n",
       "             param_grid=[{'C': [1, 10, 50, 100],\n",
       "                          'gamma': [0.5, 0.1, 0.01, 0.001, 0.0001],\n",
       "                          'kernel': ['rbf']}])"
      ]
     },
     "execution_count": 47,
     "metadata": {},
     "output_type": "execute_result"
    }
   ],
   "source": [
    "from sklearn.svm import SVC\n",
    "from sklearn.model_selection import StratifiedKFold\n",
    "from sklearn.model_selection import GridSearchCV\n",
    "\n",
    "clf = SVC()\n",
    "param_grid = [{'kernel':['rbf'],'gamma':[0.5,0.1,0.01,0.001,0.0001],\n",
    "               'C':[1,10,50,100]}]\n",
    "gsv = GridSearchCV(clf,param_grid,cv=10)\n",
    "gsv.fit(X_train,Y)\n"
   ]
  },
  {
   "cell_type": "code",
   "execution_count": 48,
   "id": "f0b98370",
   "metadata": {},
   "outputs": [
    {
     "data": {
      "text/plain": [
       "({'C': 100, 'gamma': 0.01, 'kernel': 'rbf'}, 0.8305243445692885)"
      ]
     },
     "execution_count": 48,
     "metadata": {},
     "output_type": "execute_result"
    }
   ],
   "source": [
    "gsv.best_params_, gsv.best_score_"
   ]
  },
  {
   "cell_type": "code",
   "execution_count": 49,
   "id": "37da7e2d",
   "metadata": {},
   "outputs": [
    {
     "name": "stdout",
     "output_type": "stream",
     "text": [
      "Accuracy is = 0.823832709113608\n"
     ]
    }
   ],
   "source": [
    "results1 = cross_val_score(clf, X_train, Y, cv=kfold)\n",
    "print(\"Accuracy is =\", results1.mean())"
   ]
  },
  {
   "cell_type": "markdown",
   "id": "cf438665",
   "metadata": {},
   "source": [
    "## Neural Network"
   ]
  },
  {
   "cell_type": "code",
   "execution_count": 50,
   "id": "7ceed925",
   "metadata": {},
   "outputs": [],
   "source": [
    "from keras.models import Sequential\n",
    "from keras.layers import Dense\n",
    "\n",
    "model = Sequential()\n",
    "model.add(Dense(8, input_dim=10, activation='relu'))\n",
    "model.add(Dense(5,activation='relu'))\n",
    "model.add(Dense(1,activation='sigmoid'))"
   ]
  },
  {
   "cell_type": "code",
   "execution_count": 65,
   "id": "36015904",
   "metadata": {},
   "outputs": [
    {
     "name": "stdout",
     "output_type": "stream",
     "text": [
      "Epoch 1/150\n",
      "63/63 [==============================] - 1s 4ms/step - loss: 0.3818 - accuracy: 0.8411 - val_loss: 0.4084 - val_accuracy: 0.8246\n",
      "Epoch 2/150\n",
      "63/63 [==============================] - 0s 2ms/step - loss: 0.3804 - accuracy: 0.8459 - val_loss: 0.4104 - val_accuracy: 0.8321\n",
      "Epoch 3/150\n",
      "63/63 [==============================] - 0s 2ms/step - loss: 0.3796 - accuracy: 0.8427 - val_loss: 0.4048 - val_accuracy: 0.8246\n",
      "Epoch 4/150\n",
      "63/63 [==============================] - 0s 2ms/step - loss: 0.3796 - accuracy: 0.8411 - val_loss: 0.4094 - val_accuracy: 0.8284\n",
      "Epoch 5/150\n",
      "63/63 [==============================] - 0s 2ms/step - loss: 0.3809 - accuracy: 0.8475 - val_loss: 0.4090 - val_accuracy: 0.8246\n",
      "Epoch 6/150\n",
      "63/63 [==============================] - 0s 2ms/step - loss: 0.3802 - accuracy: 0.8379 - val_loss: 0.4112 - val_accuracy: 0.8284\n",
      "Epoch 7/150\n",
      "63/63 [==============================] - 0s 2ms/step - loss: 0.3788 - accuracy: 0.8411 - val_loss: 0.4079 - val_accuracy: 0.8246\n",
      "Epoch 8/150\n",
      "63/63 [==============================] - 0s 2ms/step - loss: 0.3785 - accuracy: 0.8475 - val_loss: 0.4083 - val_accuracy: 0.8284\n",
      "Epoch 9/150\n",
      "63/63 [==============================] - 0s 2ms/step - loss: 0.3788 - accuracy: 0.8411 - val_loss: 0.4093 - val_accuracy: 0.8284\n",
      "Epoch 10/150\n",
      "63/63 [==============================] - 0s 2ms/step - loss: 0.3786 - accuracy: 0.8395 - val_loss: 0.4083 - val_accuracy: 0.8246\n",
      "Epoch 11/150\n",
      "63/63 [==============================] - 0s 2ms/step - loss: 0.3778 - accuracy: 0.8459 - val_loss: 0.4108 - val_accuracy: 0.8321\n",
      "Epoch 12/150\n",
      "63/63 [==============================] - 0s 2ms/step - loss: 0.3781 - accuracy: 0.8427 - val_loss: 0.4101 - val_accuracy: 0.8284\n",
      "Epoch 13/150\n",
      "63/63 [==============================] - 0s 2ms/step - loss: 0.3782 - accuracy: 0.8443 - val_loss: 0.4093 - val_accuracy: 0.8284\n",
      "Epoch 14/150\n",
      "63/63 [==============================] - 0s 2ms/step - loss: 0.3785 - accuracy: 0.8475 - val_loss: 0.4081 - val_accuracy: 0.8284\n",
      "Epoch 15/150\n",
      "63/63 [==============================] - 0s 2ms/step - loss: 0.3772 - accuracy: 0.8427 - val_loss: 0.4080 - val_accuracy: 0.8284\n",
      "Epoch 16/150\n",
      "63/63 [==============================] - 0s 2ms/step - loss: 0.3771 - accuracy: 0.8427 - val_loss: 0.4086 - val_accuracy: 0.8246\n",
      "Epoch 17/150\n",
      "63/63 [==============================] - 0s 2ms/step - loss: 0.3774 - accuracy: 0.8475 - val_loss: 0.4078 - val_accuracy: 0.8284\n",
      "Epoch 18/150\n",
      "63/63 [==============================] - 0s 2ms/step - loss: 0.3776 - accuracy: 0.8331 - val_loss: 0.4098 - val_accuracy: 0.8284\n",
      "Epoch 19/150\n",
      "63/63 [==============================] - 0s 2ms/step - loss: 0.3766 - accuracy: 0.8411 - val_loss: 0.4099 - val_accuracy: 0.8209\n",
      "Epoch 20/150\n",
      "63/63 [==============================] - 0s 2ms/step - loss: 0.3769 - accuracy: 0.8411 - val_loss: 0.4090 - val_accuracy: 0.8209\n",
      "Epoch 21/150\n",
      "63/63 [==============================] - 0s 2ms/step - loss: 0.3763 - accuracy: 0.8395 - val_loss: 0.4085 - val_accuracy: 0.8209\n",
      "Epoch 22/150\n",
      "63/63 [==============================] - 0s 2ms/step - loss: 0.3767 - accuracy: 0.8379 - val_loss: 0.4076 - val_accuracy: 0.8209\n",
      "Epoch 23/150\n",
      "63/63 [==============================] - 0s 2ms/step - loss: 0.3761 - accuracy: 0.8379 - val_loss: 0.4122 - val_accuracy: 0.8172\n",
      "Epoch 24/150\n",
      "63/63 [==============================] - 0s 2ms/step - loss: 0.3767 - accuracy: 0.8363 - val_loss: 0.4088 - val_accuracy: 0.8209\n",
      "Epoch 25/150\n",
      "63/63 [==============================] - 0s 2ms/step - loss: 0.3755 - accuracy: 0.8379 - val_loss: 0.4090 - val_accuracy: 0.8209\n",
      "Epoch 26/150\n",
      "63/63 [==============================] - 0s 2ms/step - loss: 0.3749 - accuracy: 0.8395 - val_loss: 0.4110 - val_accuracy: 0.8172\n",
      "Epoch 27/150\n",
      "63/63 [==============================] - 0s 2ms/step - loss: 0.3755 - accuracy: 0.8443 - val_loss: 0.4098 - val_accuracy: 0.8172\n",
      "Epoch 28/150\n",
      "63/63 [==============================] - 0s 2ms/step - loss: 0.3752 - accuracy: 0.8379 - val_loss: 0.4107 - val_accuracy: 0.8172\n",
      "Epoch 29/150\n",
      "63/63 [==============================] - 0s 2ms/step - loss: 0.3754 - accuracy: 0.8395 - val_loss: 0.4088 - val_accuracy: 0.8172\n",
      "Epoch 30/150\n",
      "63/63 [==============================] - 0s 2ms/step - loss: 0.3744 - accuracy: 0.8411 - val_loss: 0.4097 - val_accuracy: 0.8172\n",
      "Epoch 31/150\n",
      "63/63 [==============================] - 0s 2ms/step - loss: 0.3742 - accuracy: 0.8411 - val_loss: 0.4109 - val_accuracy: 0.8134\n",
      "Epoch 32/150\n",
      "63/63 [==============================] - 0s 2ms/step - loss: 0.3750 - accuracy: 0.8395 - val_loss: 0.4084 - val_accuracy: 0.8134\n",
      "Epoch 33/150\n",
      "63/63 [==============================] - 0s 2ms/step - loss: 0.3743 - accuracy: 0.8443 - val_loss: 0.4102 - val_accuracy: 0.8134\n",
      "Epoch 34/150\n",
      "63/63 [==============================] - 0s 2ms/step - loss: 0.3743 - accuracy: 0.8347 - val_loss: 0.4095 - val_accuracy: 0.8097\n",
      "Epoch 35/150\n",
      "63/63 [==============================] - 0s 2ms/step - loss: 0.3746 - accuracy: 0.8427 - val_loss: 0.4098 - val_accuracy: 0.8097\n",
      "Epoch 36/150\n",
      "63/63 [==============================] - 0s 2ms/step - loss: 0.3743 - accuracy: 0.8427 - val_loss: 0.4114 - val_accuracy: 0.8134\n",
      "Epoch 37/150\n",
      "63/63 [==============================] - 0s 2ms/step - loss: 0.3747 - accuracy: 0.8475 - val_loss: 0.4144 - val_accuracy: 0.8134\n",
      "Epoch 38/150\n",
      "63/63 [==============================] - 0s 2ms/step - loss: 0.3748 - accuracy: 0.8411 - val_loss: 0.4126 - val_accuracy: 0.8134\n",
      "Epoch 39/150\n",
      "63/63 [==============================] - 0s 2ms/step - loss: 0.3731 - accuracy: 0.8395 - val_loss: 0.4143 - val_accuracy: 0.8134\n",
      "Epoch 40/150\n",
      "63/63 [==============================] - 0s 2ms/step - loss: 0.3734 - accuracy: 0.8395 - val_loss: 0.4167 - val_accuracy: 0.8134\n",
      "Epoch 41/150\n",
      "63/63 [==============================] - 0s 2ms/step - loss: 0.3745 - accuracy: 0.8363 - val_loss: 0.4163 - val_accuracy: 0.8134\n",
      "Epoch 42/150\n",
      "63/63 [==============================] - 0s 2ms/step - loss: 0.3737 - accuracy: 0.8491 - val_loss: 0.4133 - val_accuracy: 0.8134\n",
      "Epoch 43/150\n",
      "63/63 [==============================] - 0s 2ms/step - loss: 0.3734 - accuracy: 0.8363 - val_loss: 0.4122 - val_accuracy: 0.8134\n",
      "Epoch 44/150\n",
      "63/63 [==============================] - 0s 2ms/step - loss: 0.3746 - accuracy: 0.8411 - val_loss: 0.4108 - val_accuracy: 0.8097\n",
      "Epoch 45/150\n",
      "63/63 [==============================] - 0s 2ms/step - loss: 0.3734 - accuracy: 0.8443 - val_loss: 0.4134 - val_accuracy: 0.8097\n",
      "Epoch 46/150\n",
      "63/63 [==============================] - 0s 2ms/step - loss: 0.3725 - accuracy: 0.8411 - val_loss: 0.4154 - val_accuracy: 0.8134\n",
      "Epoch 47/150\n",
      "63/63 [==============================] - 0s 2ms/step - loss: 0.3725 - accuracy: 0.8411 - val_loss: 0.4138 - val_accuracy: 0.8134\n",
      "Epoch 48/150\n",
      "63/63 [==============================] - 0s 2ms/step - loss: 0.3725 - accuracy: 0.8379 - val_loss: 0.4161 - val_accuracy: 0.8097\n",
      "Epoch 49/150\n",
      "63/63 [==============================] - 0s 2ms/step - loss: 0.3724 - accuracy: 0.8475 - val_loss: 0.4153 - val_accuracy: 0.8134\n",
      "Epoch 50/150\n",
      "63/63 [==============================] - 0s 2ms/step - loss: 0.3730 - accuracy: 0.8395 - val_loss: 0.4179 - val_accuracy: 0.8134\n",
      "Epoch 51/150\n",
      "63/63 [==============================] - 0s 2ms/step - loss: 0.3717 - accuracy: 0.8427 - val_loss: 0.4164 - val_accuracy: 0.8134\n",
      "Epoch 52/150\n",
      "63/63 [==============================] - 0s 2ms/step - loss: 0.3717 - accuracy: 0.8411 - val_loss: 0.4166 - val_accuracy: 0.8134\n",
      "Epoch 53/150\n",
      "63/63 [==============================] - 0s 2ms/step - loss: 0.3721 - accuracy: 0.8443 - val_loss: 0.4179 - val_accuracy: 0.8134\n",
      "Epoch 54/150\n",
      "63/63 [==============================] - 0s 2ms/step - loss: 0.3713 - accuracy: 0.8395 - val_loss: 0.4169 - val_accuracy: 0.8209\n",
      "Epoch 55/150\n",
      "63/63 [==============================] - 0s 2ms/step - loss: 0.3717 - accuracy: 0.8427 - val_loss: 0.4187 - val_accuracy: 0.8209\n",
      "Epoch 56/150\n",
      "63/63 [==============================] - 0s 2ms/step - loss: 0.3711 - accuracy: 0.8411 - val_loss: 0.4176 - val_accuracy: 0.8172\n",
      "Epoch 57/150\n",
      "63/63 [==============================] - 0s 2ms/step - loss: 0.3713 - accuracy: 0.8395 - val_loss: 0.4200 - val_accuracy: 0.8172\n",
      "Epoch 58/150\n",
      "63/63 [==============================] - 0s 2ms/step - loss: 0.3712 - accuracy: 0.8443 - val_loss: 0.4215 - val_accuracy: 0.8134\n",
      "Epoch 59/150\n",
      "63/63 [==============================] - 0s 2ms/step - loss: 0.3716 - accuracy: 0.8555 - val_loss: 0.4183 - val_accuracy: 0.8172\n",
      "Epoch 60/150\n",
      "63/63 [==============================] - 0s 2ms/step - loss: 0.3709 - accuracy: 0.8347 - val_loss: 0.4198 - val_accuracy: 0.8172\n",
      "Epoch 61/150\n",
      "63/63 [==============================] - 0s 2ms/step - loss: 0.3711 - accuracy: 0.8475 - val_loss: 0.4178 - val_accuracy: 0.8134\n",
      "Epoch 62/150\n",
      "63/63 [==============================] - 0s 2ms/step - loss: 0.3700 - accuracy: 0.8475 - val_loss: 0.4199 - val_accuracy: 0.8134\n",
      "Epoch 63/150\n",
      "63/63 [==============================] - 0s 2ms/step - loss: 0.3703 - accuracy: 0.8443 - val_loss: 0.4193 - val_accuracy: 0.8209\n",
      "Epoch 64/150\n",
      "63/63 [==============================] - 0s 2ms/step - loss: 0.3698 - accuracy: 0.8459 - val_loss: 0.4211 - val_accuracy: 0.8172\n",
      "Epoch 65/150\n",
      "63/63 [==============================] - 0s 2ms/step - loss: 0.3697 - accuracy: 0.8491 - val_loss: 0.4204 - val_accuracy: 0.8209\n",
      "Epoch 66/150\n",
      "63/63 [==============================] - 0s 2ms/step - loss: 0.3698 - accuracy: 0.8459 - val_loss: 0.4228 - val_accuracy: 0.8209\n",
      "Epoch 67/150\n",
      "63/63 [==============================] - 0s 2ms/step - loss: 0.3696 - accuracy: 0.8443 - val_loss: 0.4231 - val_accuracy: 0.8097\n",
      "Epoch 68/150\n",
      "63/63 [==============================] - 0s 2ms/step - loss: 0.3698 - accuracy: 0.8411 - val_loss: 0.4245 - val_accuracy: 0.8209\n",
      "Epoch 69/150\n",
      "63/63 [==============================] - 0s 2ms/step - loss: 0.3707 - accuracy: 0.8491 - val_loss: 0.4233 - val_accuracy: 0.8172\n",
      "Epoch 70/150\n",
      "63/63 [==============================] - 0s 2ms/step - loss: 0.3693 - accuracy: 0.8475 - val_loss: 0.4224 - val_accuracy: 0.8134\n",
      "Epoch 71/150\n",
      "63/63 [==============================] - 0s 2ms/step - loss: 0.3681 - accuracy: 0.8395 - val_loss: 0.4259 - val_accuracy: 0.8209\n",
      "Epoch 72/150\n",
      "63/63 [==============================] - 0s 2ms/step - loss: 0.3680 - accuracy: 0.8411 - val_loss: 0.4244 - val_accuracy: 0.8209\n",
      "Epoch 73/150\n",
      "63/63 [==============================] - 0s 2ms/step - loss: 0.3679 - accuracy: 0.8443 - val_loss: 0.4239 - val_accuracy: 0.8209\n",
      "Epoch 74/150\n",
      "63/63 [==============================] - 0s 2ms/step - loss: 0.3677 - accuracy: 0.8427 - val_loss: 0.4247 - val_accuracy: 0.8209\n",
      "Epoch 75/150\n",
      "63/63 [==============================] - 0s 2ms/step - loss: 0.3676 - accuracy: 0.8459 - val_loss: 0.4255 - val_accuracy: 0.8172\n",
      "Epoch 76/150\n",
      "63/63 [==============================] - 0s 2ms/step - loss: 0.3684 - accuracy: 0.8443 - val_loss: 0.4268 - val_accuracy: 0.8209\n",
      "Epoch 77/150\n",
      "63/63 [==============================] - 0s 2ms/step - loss: 0.3681 - accuracy: 0.8427 - val_loss: 0.4249 - val_accuracy: 0.8172\n",
      "Epoch 78/150\n",
      "63/63 [==============================] - 0s 2ms/step - loss: 0.3674 - accuracy: 0.8475 - val_loss: 0.4273 - val_accuracy: 0.8172\n",
      "Epoch 79/150\n",
      "63/63 [==============================] - 0s 2ms/step - loss: 0.3679 - accuracy: 0.8507 - val_loss: 0.4253 - val_accuracy: 0.8172\n",
      "Epoch 80/150\n",
      "63/63 [==============================] - 0s 2ms/step - loss: 0.3672 - accuracy: 0.8491 - val_loss: 0.4272 - val_accuracy: 0.8246\n",
      "Epoch 81/150\n",
      "63/63 [==============================] - 0s 2ms/step - loss: 0.3671 - accuracy: 0.8491 - val_loss: 0.4283 - val_accuracy: 0.8172\n",
      "Epoch 82/150\n",
      "63/63 [==============================] - 0s 2ms/step - loss: 0.3678 - accuracy: 0.8475 - val_loss: 0.4252 - val_accuracy: 0.8172\n",
      "Epoch 83/150\n",
      "63/63 [==============================] - 0s 2ms/step - loss: 0.3671 - accuracy: 0.8459 - val_loss: 0.4285 - val_accuracy: 0.8172\n",
      "Epoch 84/150\n",
      "63/63 [==============================] - 0s 2ms/step - loss: 0.3662 - accuracy: 0.8427 - val_loss: 0.4285 - val_accuracy: 0.8172\n",
      "Epoch 85/150\n",
      "63/63 [==============================] - 0s 2ms/step - loss: 0.3655 - accuracy: 0.8475 - val_loss: 0.4251 - val_accuracy: 0.8172\n",
      "Epoch 86/150\n",
      "63/63 [==============================] - 0s 2ms/step - loss: 0.3659 - accuracy: 0.8475 - val_loss: 0.4267 - val_accuracy: 0.8172\n",
      "Epoch 87/150\n",
      "63/63 [==============================] - 0s 2ms/step - loss: 0.3660 - accuracy: 0.8491 - val_loss: 0.4283 - val_accuracy: 0.8172\n",
      "Epoch 88/150\n",
      "63/63 [==============================] - 0s 2ms/step - loss: 0.3654 - accuracy: 0.8491 - val_loss: 0.4305 - val_accuracy: 0.8134\n",
      "Epoch 89/150\n",
      "63/63 [==============================] - 0s 2ms/step - loss: 0.3664 - accuracy: 0.8475 - val_loss: 0.4305 - val_accuracy: 0.8172\n",
      "Epoch 90/150\n",
      "63/63 [==============================] - 0s 2ms/step - loss: 0.3656 - accuracy: 0.8443 - val_loss: 0.4284 - val_accuracy: 0.8209\n",
      "Epoch 91/150\n",
      "63/63 [==============================] - 0s 2ms/step - loss: 0.3657 - accuracy: 0.8491 - val_loss: 0.4304 - val_accuracy: 0.8172\n",
      "Epoch 92/150\n",
      "63/63 [==============================] - 0s 2ms/step - loss: 0.3649 - accuracy: 0.8491 - val_loss: 0.4307 - val_accuracy: 0.8172\n",
      "Epoch 93/150\n",
      "63/63 [==============================] - 0s 2ms/step - loss: 0.3651 - accuracy: 0.8475 - val_loss: 0.4324 - val_accuracy: 0.8209\n",
      "Epoch 94/150\n",
      "63/63 [==============================] - 0s 2ms/step - loss: 0.3650 - accuracy: 0.8507 - val_loss: 0.4324 - val_accuracy: 0.8172\n",
      "Epoch 95/150\n",
      "63/63 [==============================] - 0s 2ms/step - loss: 0.3661 - accuracy: 0.8491 - val_loss: 0.4361 - val_accuracy: 0.8209\n",
      "Epoch 96/150\n",
      "63/63 [==============================] - 0s 2ms/step - loss: 0.3659 - accuracy: 0.8443 - val_loss: 0.4329 - val_accuracy: 0.8209\n",
      "Epoch 97/150\n",
      "63/63 [==============================] - 0s 2ms/step - loss: 0.3652 - accuracy: 0.8523 - val_loss: 0.4333 - val_accuracy: 0.8209\n",
      "Epoch 98/150\n",
      "63/63 [==============================] - 0s 2ms/step - loss: 0.3646 - accuracy: 0.8507 - val_loss: 0.4324 - val_accuracy: 0.8209\n",
      "Epoch 99/150\n",
      "63/63 [==============================] - 0s 2ms/step - loss: 0.3652 - accuracy: 0.8443 - val_loss: 0.4350 - val_accuracy: 0.8209\n",
      "Epoch 100/150\n",
      "63/63 [==============================] - 0s 2ms/step - loss: 0.3633 - accuracy: 0.8459 - val_loss: 0.4318 - val_accuracy: 0.8246\n",
      "Epoch 101/150\n",
      "63/63 [==============================] - 0s 2ms/step - loss: 0.3638 - accuracy: 0.8475 - val_loss: 0.4362 - val_accuracy: 0.8172\n",
      "Epoch 102/150\n",
      "63/63 [==============================] - 0s 2ms/step - loss: 0.3634 - accuracy: 0.8491 - val_loss: 0.4363 - val_accuracy: 0.8209\n",
      "Epoch 103/150\n",
      "63/63 [==============================] - 0s 2ms/step - loss: 0.3626 - accuracy: 0.8523 - val_loss: 0.4362 - val_accuracy: 0.8172\n",
      "Epoch 104/150\n",
      "63/63 [==============================] - 0s 2ms/step - loss: 0.3629 - accuracy: 0.8443 - val_loss: 0.4361 - val_accuracy: 0.8172\n",
      "Epoch 105/150\n",
      "63/63 [==============================] - 0s 2ms/step - loss: 0.3632 - accuracy: 0.8523 - val_loss: 0.4361 - val_accuracy: 0.8172\n",
      "Epoch 106/150\n",
      "63/63 [==============================] - 0s 2ms/step - loss: 0.3648 - accuracy: 0.8507 - val_loss: 0.4370 - val_accuracy: 0.8172\n",
      "Epoch 107/150\n",
      "63/63 [==============================] - 0s 2ms/step - loss: 0.3633 - accuracy: 0.8475 - val_loss: 0.4401 - val_accuracy: 0.8246\n",
      "Epoch 108/150\n",
      "63/63 [==============================] - 0s 2ms/step - loss: 0.3623 - accuracy: 0.8427 - val_loss: 0.4376 - val_accuracy: 0.8172\n",
      "Epoch 109/150\n",
      "63/63 [==============================] - 0s 2ms/step - loss: 0.3623 - accuracy: 0.8459 - val_loss: 0.4365 - val_accuracy: 0.8172\n",
      "Epoch 110/150\n",
      "63/63 [==============================] - 0s 2ms/step - loss: 0.3620 - accuracy: 0.8507 - val_loss: 0.4378 - val_accuracy: 0.8172\n",
      "Epoch 111/150\n",
      "63/63 [==============================] - 0s 2ms/step - loss: 0.3621 - accuracy: 0.8475 - val_loss: 0.4386 - val_accuracy: 0.8172\n",
      "Epoch 112/150\n",
      "63/63 [==============================] - 0s 1ms/step - loss: 0.3621 - accuracy: 0.8555 - val_loss: 0.4389 - val_accuracy: 0.8209\n",
      "Epoch 113/150\n",
      "63/63 [==============================] - 0s 2ms/step - loss: 0.3616 - accuracy: 0.8539 - val_loss: 0.4397 - val_accuracy: 0.8172\n",
      "Epoch 114/150\n",
      "63/63 [==============================] - 0s 2ms/step - loss: 0.3629 - accuracy: 0.8555 - val_loss: 0.4413 - val_accuracy: 0.8246\n",
      "Epoch 115/150\n",
      "63/63 [==============================] - 0s 2ms/step - loss: 0.3614 - accuracy: 0.8459 - val_loss: 0.4419 - val_accuracy: 0.8172\n",
      "Epoch 116/150\n",
      "63/63 [==============================] - 0s 2ms/step - loss: 0.3623 - accuracy: 0.8491 - val_loss: 0.4421 - val_accuracy: 0.8209\n",
      "Epoch 117/150\n",
      "63/63 [==============================] - 0s 2ms/step - loss: 0.3621 - accuracy: 0.8507 - val_loss: 0.4423 - val_accuracy: 0.8172\n",
      "Epoch 118/150\n",
      "63/63 [==============================] - 0s 2ms/step - loss: 0.3603 - accuracy: 0.8459 - val_loss: 0.4409 - val_accuracy: 0.8209\n",
      "Epoch 119/150\n",
      "63/63 [==============================] - 0s 2ms/step - loss: 0.3618 - accuracy: 0.8427 - val_loss: 0.4413 - val_accuracy: 0.8209\n",
      "Epoch 120/150\n",
      "63/63 [==============================] - 0s 2ms/step - loss: 0.3615 - accuracy: 0.8523 - val_loss: 0.4433 - val_accuracy: 0.8172\n",
      "Epoch 121/150\n",
      "63/63 [==============================] - 0s 3ms/step - loss: 0.3605 - accuracy: 0.8539 - val_loss: 0.4416 - val_accuracy: 0.8209\n",
      "Epoch 122/150\n",
      "63/63 [==============================] - 0s 2ms/step - loss: 0.3601 - accuracy: 0.8523 - val_loss: 0.4448 - val_accuracy: 0.8209\n",
      "Epoch 123/150\n",
      "63/63 [==============================] - 0s 2ms/step - loss: 0.3604 - accuracy: 0.8507 - val_loss: 0.4461 - val_accuracy: 0.8209\n",
      "Epoch 124/150\n",
      "63/63 [==============================] - 0s 2ms/step - loss: 0.3596 - accuracy: 0.8427 - val_loss: 0.4422 - val_accuracy: 0.8246\n",
      "Epoch 125/150\n",
      "63/63 [==============================] - 0s 2ms/step - loss: 0.3593 - accuracy: 0.8459 - val_loss: 0.4443 - val_accuracy: 0.8209\n",
      "Epoch 126/150\n",
      "63/63 [==============================] - 0s 2ms/step - loss: 0.3599 - accuracy: 0.8475 - val_loss: 0.4436 - val_accuracy: 0.8246\n",
      "Epoch 127/150\n",
      "63/63 [==============================] - 0s 2ms/step - loss: 0.3606 - accuracy: 0.8443 - val_loss: 0.4432 - val_accuracy: 0.8209\n",
      "Epoch 128/150\n",
      "63/63 [==============================] - 0s 2ms/step - loss: 0.3604 - accuracy: 0.8539 - val_loss: 0.4448 - val_accuracy: 0.8246\n",
      "Epoch 129/150\n",
      "63/63 [==============================] - 0s 2ms/step - loss: 0.3607 - accuracy: 0.8427 - val_loss: 0.4437 - val_accuracy: 0.8172\n",
      "Epoch 130/150\n",
      "63/63 [==============================] - 0s 2ms/step - loss: 0.3602 - accuracy: 0.8427 - val_loss: 0.4435 - val_accuracy: 0.8246\n",
      "Epoch 131/150\n",
      "63/63 [==============================] - 0s 3ms/step - loss: 0.3598 - accuracy: 0.8491 - val_loss: 0.4451 - val_accuracy: 0.8209\n",
      "Epoch 132/150\n",
      "63/63 [==============================] - 0s 2ms/step - loss: 0.3588 - accuracy: 0.8475 - val_loss: 0.4477 - val_accuracy: 0.8209\n",
      "Epoch 133/150\n",
      "63/63 [==============================] - 0s 2ms/step - loss: 0.3595 - accuracy: 0.8491 - val_loss: 0.4463 - val_accuracy: 0.8246\n",
      "Epoch 134/150\n",
      "63/63 [==============================] - 0s 2ms/step - loss: 0.3591 - accuracy: 0.8411 - val_loss: 0.4485 - val_accuracy: 0.8209\n",
      "Epoch 135/150\n",
      "63/63 [==============================] - 0s 2ms/step - loss: 0.3599 - accuracy: 0.8443 - val_loss: 0.4494 - val_accuracy: 0.8209\n",
      "Epoch 136/150\n",
      "63/63 [==============================] - 0s 3ms/step - loss: 0.3593 - accuracy: 0.8427 - val_loss: 0.4470 - val_accuracy: 0.8246\n",
      "Epoch 137/150\n",
      "63/63 [==============================] - 0s 2ms/step - loss: 0.3596 - accuracy: 0.8491 - val_loss: 0.4454 - val_accuracy: 0.8209\n",
      "Epoch 138/150\n",
      "63/63 [==============================] - 0s 2ms/step - loss: 0.3596 - accuracy: 0.8427 - val_loss: 0.4488 - val_accuracy: 0.8209\n",
      "Epoch 139/150\n",
      "63/63 [==============================] - 0s 2ms/step - loss: 0.3584 - accuracy: 0.8555 - val_loss: 0.4455 - val_accuracy: 0.8134\n",
      "Epoch 140/150\n",
      "63/63 [==============================] - 0s 2ms/step - loss: 0.3597 - accuracy: 0.8395 - val_loss: 0.4454 - val_accuracy: 0.8209\n",
      "Epoch 141/150\n",
      "63/63 [==============================] - 0s 2ms/step - loss: 0.3590 - accuracy: 0.8427 - val_loss: 0.4465 - val_accuracy: 0.8172\n",
      "Epoch 142/150\n",
      "63/63 [==============================] - 0s 2ms/step - loss: 0.3572 - accuracy: 0.8475 - val_loss: 0.4494 - val_accuracy: 0.8246\n",
      "Epoch 143/150\n",
      "63/63 [==============================] - 0s 4ms/step - loss: 0.3573 - accuracy: 0.8475 - val_loss: 0.4502 - val_accuracy: 0.8246\n",
      "Epoch 144/150\n",
      "63/63 [==============================] - 0s 4ms/step - loss: 0.3578 - accuracy: 0.8491 - val_loss: 0.4488 - val_accuracy: 0.8209\n",
      "Epoch 145/150\n",
      "63/63 [==============================] - 0s 4ms/step - loss: 0.3575 - accuracy: 0.8507 - val_loss: 0.4534 - val_accuracy: 0.8246\n",
      "Epoch 146/150\n",
      "63/63 [==============================] - 0s 3ms/step - loss: 0.3574 - accuracy: 0.8443 - val_loss: 0.4529 - val_accuracy: 0.8246\n",
      "Epoch 147/150\n",
      "63/63 [==============================] - 0s 3ms/step - loss: 0.3583 - accuracy: 0.8459 - val_loss: 0.4551 - val_accuracy: 0.8246\n",
      "Epoch 148/150\n",
      "63/63 [==============================] - 0s 2ms/step - loss: 0.3574 - accuracy: 0.8507 - val_loss: 0.4508 - val_accuracy: 0.8209\n",
      "Epoch 149/150\n",
      "63/63 [==============================] - 0s 2ms/step - loss: 0.3576 - accuracy: 0.8459 - val_loss: 0.4535 - val_accuracy: 0.8209\n",
      "Epoch 150/150\n",
      "63/63 [==============================] - 0s 4ms/step - loss: 0.3584 - accuracy: 0.8523 - val_loss: 0.4523 - val_accuracy: 0.8246\n"
     ]
    }
   ],
   "source": [
    "model.compile(loss='binary_crossentropy', optimizer='adam', metrics=['accuracy'])\n",
    "# Fit the model\n",
    "history = model.fit(X_train, Y, validation_split=0.3, epochs=150, batch_size=10)"
   ]
  },
  {
   "cell_type": "code",
   "execution_count": 66,
   "id": "7ad51ab3",
   "metadata": {},
   "outputs": [
    {
     "name": "stdout",
     "output_type": "stream",
     "text": [
      "28/28 [==============================] - 0s 2ms/step - loss: 0.3829 - accuracy: 0.8395\n",
      "accuracy: 83.95%\n"
     ]
    }
   ],
   "source": [
    "scores = model.evaluate(X_train, Y)\n",
    "print(\"%s: %.2f%%\" % (model.metrics_names[1], scores[1]*100))"
   ]
  },
  {
   "cell_type": "markdown",
   "id": "16ab703a",
   "metadata": {},
   "source": [
    "## KNN"
   ]
  },
  {
   "cell_type": "code",
   "execution_count": 53,
   "id": "c074c3d2",
   "metadata": {},
   "outputs": [
    {
     "name": "stdout",
     "output_type": "stream",
     "text": [
      "Accuracy is = 0.7957927590511861\n"
     ]
    }
   ],
   "source": [
    "from sklearn.metrics import accuracy_score\n",
    "from sklearn.neighbors import KNeighborsClassifier\n",
    "\n",
    "KNN = KNeighborsClassifier()\n",
    "results2 = cross_val_score(KNN, X_train, Y, cv=kfold)\n",
    "print(\"Accuracy is =\", results2.mean())"
   ]
  },
  {
   "cell_type": "markdown",
   "id": "bb2d9bb5",
   "metadata": {},
   "source": [
    "## Naive_Bayes"
   ]
  },
  {
   "cell_type": "code",
   "execution_count": 54,
   "id": "7c2603a5",
   "metadata": {},
   "outputs": [
    {
     "name": "stdout",
     "output_type": "stream",
     "text": [
      "Accuracy(in %) :  78.78651685393258\n"
     ]
    }
   ],
   "source": [
    "from sklearn.metrics import confusion_matrix\n",
    "from sklearn.naive_bayes import GaussianNB\n",
    "from sklearn.naive_bayes import MultinomialNB\n",
    "\n",
    "\n",
    "mnb = GaussianNB()\n",
    "#mnb.fit(X_train, Y)\n",
    "result3 = cross_val_score(mnb, X_train, Y, cv=kfold)\n",
    "print(\"Accuracy(in %) : \", result3.mean()*100)"
   ]
  },
  {
   "cell_type": "markdown",
   "id": "6f685465",
   "metadata": {},
   "source": [
    "## Decision Tree"
   ]
  },
  {
   "cell_type": "code",
   "execution_count": 55,
   "id": "32fbb68a",
   "metadata": {},
   "outputs": [
    {
     "name": "stdout",
     "output_type": "stream",
     "text": [
      "Accuracy is(in %) 78.22846441947566\n"
     ]
    }
   ],
   "source": [
    "from sklearn.tree import DecisionTreeClassifier\n",
    "\n",
    "dtc = DecisionTreeClassifier()\n",
    "results4 = cross_val_score(dtc, X_train, Y, cv=kfold)\n",
    "print('Accuracy is(in %)', results4.mean()*100)"
   ]
  },
  {
   "cell_type": "markdown",
   "id": "f065789a",
   "metadata": {},
   "source": [
    "## Logistic Regression"
   ]
  },
  {
   "cell_type": "code",
   "execution_count": 56,
   "id": "60280e8c",
   "metadata": {},
   "outputs": [
    {
     "name": "stdout",
     "output_type": "stream",
     "text": [
      "Accuracy is(in %) 79.23845193508114\n"
     ]
    }
   ],
   "source": [
    "from sklearn.linear_model import LogisticRegression\n",
    "\n",
    "lr = LogisticRegression()\n",
    "results6 = cross_val_score(lr, X_train, Y, cv=kfold)\n",
    "print('Accuracy is(in %)', results6.mean()*100)"
   ]
  },
  {
   "cell_type": "markdown",
   "id": "05da6b80",
   "metadata": {},
   "source": [
    "## RandomForest Classifier"
   ]
  },
  {
   "cell_type": "code",
   "execution_count": 57,
   "id": "e6f92fb6",
   "metadata": {},
   "outputs": [
    {
     "name": "stdout",
     "output_type": "stream",
     "text": [
      "Accuracy is(in %) 81.37078651685393\n"
     ]
    }
   ],
   "source": [
    "from sklearn.ensemble import RandomForestClassifier\n",
    "num_trees=100\n",
    "rfc = RandomForestClassifier(n_estimators=num_trees, max_features = 10)\n",
    "results5 = cross_val_score(rfc, X_train, Y, cv=kfold)\n",
    "print('Accuracy is(in %)', results5.mean()*100)"
   ]
  },
  {
   "cell_type": "markdown",
   "id": "2aa795d3",
   "metadata": {},
   "source": [
    "## Adaboost"
   ]
  },
  {
   "cell_type": "code",
   "execution_count": 58,
   "id": "69d6ecbb",
   "metadata": {},
   "outputs": [
    {
     "name": "stdout",
     "output_type": "stream",
     "text": [
      "80.35955056179773\n"
     ]
    }
   ],
   "source": [
    "from sklearn.ensemble import AdaBoostClassifier\n",
    "\n",
    "num_trees=100\n",
    "modelada = AdaBoostClassifier(n_estimators=num_trees)\n",
    "results_boost = cross_val_score(modelada, X_train, Y, cv=kfold)\n",
    "print(results_boost.mean()*100)"
   ]
  },
  {
   "cell_type": "code",
   "execution_count": 59,
   "id": "4cef67ef",
   "metadata": {},
   "outputs": [
    {
     "name": "stdout",
     "output_type": "stream",
     "text": [
      "81.81897627965043\n"
     ]
    }
   ],
   "source": [
    "from sklearn.ensemble import VotingClassifier\n",
    "from sklearn.ensemble import BaggingClassifier\n",
    "\n",
    "#Iteration1\n",
    "seed=10\n",
    "estimators1 = []\n",
    "model7 = LogisticRegression(max_iter=500,random_state=seed)\n",
    "estimators1.append(('logistic', model7))\n",
    "\n",
    "model8 = RandomForestClassifier(random_state=seed)\n",
    "estimators1.append(('cart', model8))\n",
    "\n",
    "#model9 = KNeighborsClassifier()\n",
    "#estimators1.append(('knn', model9))\n",
    "\n",
    "#model9 = SVC()\n",
    "#estimators1.append(('svm', model9))\n",
    "\n",
    "#model10 = BaggingClassifier(base_estimator='cart', n_estimators=num_trees)\n",
    "#estimators1.append(('bagging', model10))\n",
    "#num_trees=100\n",
    "model11 = AdaBoostClassifier(random_state=seed)\n",
    "estimators1.append(('boosting', model11))\n",
    "\n",
    "\n",
    "# create the ensemble modelIter\n",
    "ensemble1 = VotingClassifier(estimators1)\n",
    "#results1 = cross_val_score(ensemble1, X_train,Y, cv=kfold)\n",
    "results1 = cross_val_score(ensemble1, X_train,Y, cv=kfold)\n",
    "ensemble1.fit(X_train, Y)\n",
    "print(results1.mean()*100)"
   ]
  },
  {
   "cell_type": "code",
   "execution_count": 62,
   "id": "f413bd69",
   "metadata": {},
   "outputs": [
    {
     "name": "stdout",
     "output_type": "stream",
     "text": [
      "81.37203495630463\n"
     ]
    }
   ],
   "source": [
    "from sklearn.ensemble import VotingClassifier\n",
    "from sklearn.ensemble import BaggingClassifier\n",
    "\n",
    "#Iteration2\n",
    "num_trees=100\n",
    "estimators3 = []\n",
    "model15 = LogisticRegression(max_iter=500,random_state=seed)\n",
    "estimators3.append(('logistic', model15))\n",
    "\n",
    "model16 = DecisionTreeClassifier(random_state=seed)\n",
    "estimators3.append(('cart', model16))\n",
    "\n",
    "model17 = SVC()\n",
    "estimators3.append(('svm', model17))\n",
    "\n",
    "model18 = BaggingClassifier(n_estimators=num_trees,random_state=seed)\n",
    "estimators3.append(('bagging', model18))\n",
    "\n",
    "model19 = AdaBoostClassifier(n_estimators=num_trees,random_state=seed)\n",
    "estimators3.append(('boosting', model19))\n",
    "\n",
    "# create the ensemble modelIter\n",
    "ensemble3 = VotingClassifier(estimators3)\n",
    "results3 = cross_val_score(ensemble3, X_train,Y, cv=kfold)\n",
    "print(results3.mean()*100)\n"
   ]
  },
  {
   "cell_type": "code",
   "execution_count": 56,
   "id": "32437b4d",
   "metadata": {},
   "outputs": [
    {
     "data": {
      "text/plain": [
       "array([0, 0, 0, 0, 0, 0, 1, 0, 1, 0, 0, 0, 1, 0, 1, 1, 0, 0, 0, 1, 0, 0,\n",
       "       1, 1, 1, 0, 1, 0, 0, 0, 0, 0, 0, 0, 1, 0, 1, 0, 0, 0, 0, 0, 0, 1,\n",
       "       1, 0, 0, 0, 1, 1, 0, 0, 1, 1, 0, 0, 0, 0, 0, 1, 0, 0, 0, 1, 1, 1,\n",
       "       1, 0, 1, 1, 1, 0, 1, 0, 1, 0, 0, 1, 0, 1, 1, 0, 0, 0, 0, 0, 1, 1,\n",
       "       1, 0, 0, 0, 1, 0, 0, 0, 1, 0, 1, 0, 1, 0, 0, 0, 1, 0, 0, 0, 0, 0,\n",
       "       0, 1, 1, 1, 1, 0, 0, 1, 1, 1, 1, 0, 1, 0, 0, 1, 0, 1, 0, 0, 0, 0,\n",
       "       0, 0, 0, 0, 0, 0, 1, 0, 0, 1, 0, 0, 0, 0, 0, 0, 0, 0, 1, 0, 0, 1,\n",
       "       0, 0, 1, 1, 0, 1, 1, 0, 1, 0, 0, 1, 0, 0, 1, 0, 0, 0, 0, 0, 0, 1,\n",
       "       1, 0, 1, 1, 0, 1, 1, 0, 1, 0, 1, 0, 0, 0, 0, 0, 0, 0, 1, 0, 1, 1,\n",
       "       0, 1, 1, 1, 0, 1, 0, 0, 1, 0, 1, 0, 0, 0, 0, 0, 0, 0, 1, 0, 1, 0,\n",
       "       1, 0, 1, 0, 1, 1, 0, 1, 0, 0, 0, 1, 0, 0, 1, 0, 0, 0, 1, 1, 1, 1,\n",
       "       0, 0, 0, 0, 1, 0, 1, 1, 1, 0, 1, 0, 0, 0, 0, 0, 1, 0, 0, 0, 1, 1,\n",
       "       0, 0, 0, 0, 1, 0, 0, 0, 1, 1, 0, 1, 0, 0, 0, 0, 0, 1, 1, 1, 1, 0,\n",
       "       0, 0, 0, 0, 0, 1, 0, 0, 0, 0, 1, 0, 0, 0, 0, 0, 0, 0, 1, 1, 0, 1,\n",
       "       0, 0, 0, 0, 0, 1, 1, 1, 0, 0, 0, 0, 0, 0, 0, 0, 1, 0, 1, 0, 0, 0,\n",
       "       1, 1, 0, 1, 0, 0, 0, 0, 0, 0, 0, 0, 0, 1, 0, 1, 0, 1, 0, 1, 1, 0,\n",
       "       0, 0, 1, 0, 1, 0, 0, 0, 0, 1, 1, 0, 1, 0, 0, 0, 1, 0, 0, 1, 0, 0,\n",
       "       1, 1, 0, 0, 0, 0, 0, 0, 1, 1, 0, 1, 0, 0, 0, 0, 0, 1, 0, 0, 0, 1,\n",
       "       0, 1, 0, 0, 1, 0, 1, 0, 0, 0, 0, 0, 1, 1, 1, 1, 0, 0, 1, 0, 0, 0],\n",
       "      dtype=int64)"
      ]
     },
     "execution_count": 56,
     "metadata": {},
     "output_type": "execute_result"
    }
   ],
   "source": [
    "ensemble1.predict(x_te)"
   ]
  },
  {
   "cell_type": "code",
   "execution_count": 64,
   "id": "9d522c8c",
   "metadata": {},
   "outputs": [
    {
     "name": "stdout",
     "output_type": "stream",
     "text": [
      "0.8137028435126483\n"
     ]
    }
   ],
   "source": [
    "from sklearn.model_selection import cross_val_score\n",
    "\n",
    "#Iteration3\n",
    "estimators2 = []\n",
    "seed = 10\n",
    "#model12 = AdaBoostClassifier()\n",
    "#estimators2.append(('boosting', model12))\n",
    "model12 = LogisticRegression(max_iter=500,random_state=seed)\n",
    "estimators2.append(('logistic', model12))\n",
    "\n",
    "model13 = RandomForestClassifier(random_state=seed)\n",
    "estimators2.append(('cart', model13))\n",
    "\n",
    "ensemble2 = VotingClassifier(estimators2)\n",
    "ensemble2.fit(X_train, Y)\n",
    "results2 = cross_val_score(ensemble2, X,Y, cv=5)\n",
    "                \n",
    "print(results2.mean())"
   ]
  },
  {
   "cell_type": "markdown",
   "id": "f5c1ee08",
   "metadata": {},
   "source": [
    "### Since we got better accuracy using Neural Network,84% accuracy we will use NN to predict the test data"
   ]
  },
  {
   "cell_type": "code",
   "execution_count": 85,
   "id": "25b05861",
   "metadata": {},
   "outputs": [
    {
     "name": "stdout",
     "output_type": "stream",
     "text": [
      "14/14 [==============================] - 0s 2ms/step\n"
     ]
    },
    {
     "data": {
      "text/html": [
       "<div>\n",
       "<style scoped>\n",
       "    .dataframe tbody tr th:only-of-type {\n",
       "        vertical-align: middle;\n",
       "    }\n",
       "\n",
       "    .dataframe tbody tr th {\n",
       "        vertical-align: top;\n",
       "    }\n",
       "\n",
       "    .dataframe thead th {\n",
       "        text-align: right;\n",
       "    }\n",
       "</style>\n",
       "<table border=\"1\" class=\"dataframe\">\n",
       "  <thead>\n",
       "    <tr style=\"text-align: right;\">\n",
       "      <th></th>\n",
       "      <th>PassengerId</th>\n",
       "      <th>Pclass</th>\n",
       "      <th>Name</th>\n",
       "      <th>Sex</th>\n",
       "      <th>Age</th>\n",
       "      <th>SibSp</th>\n",
       "      <th>Parch</th>\n",
       "      <th>Ticket</th>\n",
       "      <th>Fare</th>\n",
       "      <th>Cabin</th>\n",
       "      <th>Embarked</th>\n",
       "      <th>Survived_prediction</th>\n",
       "    </tr>\n",
       "  </thead>\n",
       "  <tbody>\n",
       "    <tr>\n",
       "      <th>0</th>\n",
       "      <td>892</td>\n",
       "      <td>3</td>\n",
       "      <td>Kelly, Mr. James</td>\n",
       "      <td>male</td>\n",
       "      <td>34.5</td>\n",
       "      <td>0</td>\n",
       "      <td>0</td>\n",
       "      <td>330911</td>\n",
       "      <td>7.8292</td>\n",
       "      <td>NaN</td>\n",
       "      <td>Q</td>\n",
       "      <td>0</td>\n",
       "    </tr>\n",
       "    <tr>\n",
       "      <th>1</th>\n",
       "      <td>893</td>\n",
       "      <td>3</td>\n",
       "      <td>Wilkes, Mrs. James (Ellen Needs)</td>\n",
       "      <td>female</td>\n",
       "      <td>47.0</td>\n",
       "      <td>1</td>\n",
       "      <td>0</td>\n",
       "      <td>363272</td>\n",
       "      <td>7.0000</td>\n",
       "      <td>NaN</td>\n",
       "      <td>S</td>\n",
       "      <td>0</td>\n",
       "    </tr>\n",
       "    <tr>\n",
       "      <th>2</th>\n",
       "      <td>894</td>\n",
       "      <td>2</td>\n",
       "      <td>Myles, Mr. Thomas Francis</td>\n",
       "      <td>male</td>\n",
       "      <td>62.0</td>\n",
       "      <td>0</td>\n",
       "      <td>0</td>\n",
       "      <td>240276</td>\n",
       "      <td>9.6875</td>\n",
       "      <td>NaN</td>\n",
       "      <td>Q</td>\n",
       "      <td>0</td>\n",
       "    </tr>\n",
       "    <tr>\n",
       "      <th>3</th>\n",
       "      <td>895</td>\n",
       "      <td>3</td>\n",
       "      <td>Wirz, Mr. Albert</td>\n",
       "      <td>male</td>\n",
       "      <td>27.0</td>\n",
       "      <td>0</td>\n",
       "      <td>0</td>\n",
       "      <td>315154</td>\n",
       "      <td>8.6625</td>\n",
       "      <td>NaN</td>\n",
       "      <td>S</td>\n",
       "      <td>0</td>\n",
       "    </tr>\n",
       "    <tr>\n",
       "      <th>4</th>\n",
       "      <td>896</td>\n",
       "      <td>3</td>\n",
       "      <td>Hirvonen, Mrs. Alexander (Helga E Lindqvist)</td>\n",
       "      <td>female</td>\n",
       "      <td>22.0</td>\n",
       "      <td>1</td>\n",
       "      <td>1</td>\n",
       "      <td>3101298</td>\n",
       "      <td>12.2875</td>\n",
       "      <td>NaN</td>\n",
       "      <td>S</td>\n",
       "      <td>0</td>\n",
       "    </tr>\n",
       "    <tr>\n",
       "      <th>...</th>\n",
       "      <td>...</td>\n",
       "      <td>...</td>\n",
       "      <td>...</td>\n",
       "      <td>...</td>\n",
       "      <td>...</td>\n",
       "      <td>...</td>\n",
       "      <td>...</td>\n",
       "      <td>...</td>\n",
       "      <td>...</td>\n",
       "      <td>...</td>\n",
       "      <td>...</td>\n",
       "      <td>...</td>\n",
       "    </tr>\n",
       "    <tr>\n",
       "      <th>413</th>\n",
       "      <td>1305</td>\n",
       "      <td>3</td>\n",
       "      <td>Spector, Mr. Woolf</td>\n",
       "      <td>male</td>\n",
       "      <td>NaN</td>\n",
       "      <td>0</td>\n",
       "      <td>0</td>\n",
       "      <td>A.5. 3236</td>\n",
       "      <td>8.0500</td>\n",
       "      <td>NaN</td>\n",
       "      <td>S</td>\n",
       "      <td>0</td>\n",
       "    </tr>\n",
       "    <tr>\n",
       "      <th>414</th>\n",
       "      <td>1306</td>\n",
       "      <td>1</td>\n",
       "      <td>Oliva y Ocana, Dona. Fermina</td>\n",
       "      <td>female</td>\n",
       "      <td>39.0</td>\n",
       "      <td>0</td>\n",
       "      <td>0</td>\n",
       "      <td>PC 17758</td>\n",
       "      <td>108.9000</td>\n",
       "      <td>C105</td>\n",
       "      <td>C</td>\n",
       "      <td>1</td>\n",
       "    </tr>\n",
       "    <tr>\n",
       "      <th>415</th>\n",
       "      <td>1307</td>\n",
       "      <td>3</td>\n",
       "      <td>Saether, Mr. Simon Sivertsen</td>\n",
       "      <td>male</td>\n",
       "      <td>38.5</td>\n",
       "      <td>0</td>\n",
       "      <td>0</td>\n",
       "      <td>SOTON/O.Q. 3101262</td>\n",
       "      <td>7.2500</td>\n",
       "      <td>NaN</td>\n",
       "      <td>S</td>\n",
       "      <td>0</td>\n",
       "    </tr>\n",
       "    <tr>\n",
       "      <th>416</th>\n",
       "      <td>1308</td>\n",
       "      <td>3</td>\n",
       "      <td>Ware, Mr. Frederick</td>\n",
       "      <td>male</td>\n",
       "      <td>NaN</td>\n",
       "      <td>0</td>\n",
       "      <td>0</td>\n",
       "      <td>359309</td>\n",
       "      <td>8.0500</td>\n",
       "      <td>NaN</td>\n",
       "      <td>S</td>\n",
       "      <td>0</td>\n",
       "    </tr>\n",
       "    <tr>\n",
       "      <th>417</th>\n",
       "      <td>1309</td>\n",
       "      <td>3</td>\n",
       "      <td>Peter, Master. Michael J</td>\n",
       "      <td>male</td>\n",
       "      <td>NaN</td>\n",
       "      <td>1</td>\n",
       "      <td>1</td>\n",
       "      <td>2668</td>\n",
       "      <td>22.3583</td>\n",
       "      <td>NaN</td>\n",
       "      <td>C</td>\n",
       "      <td>0</td>\n",
       "    </tr>\n",
       "  </tbody>\n",
       "</table>\n",
       "<p>418 rows × 12 columns</p>\n",
       "</div>"
      ],
      "text/plain": [
       "     PassengerId  Pclass                                          Name  \\\n",
       "0            892       3                              Kelly, Mr. James   \n",
       "1            893       3              Wilkes, Mrs. James (Ellen Needs)   \n",
       "2            894       2                     Myles, Mr. Thomas Francis   \n",
       "3            895       3                              Wirz, Mr. Albert   \n",
       "4            896       3  Hirvonen, Mrs. Alexander (Helga E Lindqvist)   \n",
       "..           ...     ...                                           ...   \n",
       "413         1305       3                            Spector, Mr. Woolf   \n",
       "414         1306       1                  Oliva y Ocana, Dona. Fermina   \n",
       "415         1307       3                  Saether, Mr. Simon Sivertsen   \n",
       "416         1308       3                           Ware, Mr. Frederick   \n",
       "417         1309       3                      Peter, Master. Michael J   \n",
       "\n",
       "        Sex   Age  SibSp  Parch              Ticket      Fare Cabin Embarked  \\\n",
       "0      male  34.5      0      0              330911    7.8292   NaN        Q   \n",
       "1    female  47.0      1      0              363272    7.0000   NaN        S   \n",
       "2      male  62.0      0      0              240276    9.6875   NaN        Q   \n",
       "3      male  27.0      0      0              315154    8.6625   NaN        S   \n",
       "4    female  22.0      1      1             3101298   12.2875   NaN        S   \n",
       "..      ...   ...    ...    ...                 ...       ...   ...      ...   \n",
       "413    male   NaN      0      0           A.5. 3236    8.0500   NaN        S   \n",
       "414  female  39.0      0      0            PC 17758  108.9000  C105        C   \n",
       "415    male  38.5      0      0  SOTON/O.Q. 3101262    7.2500   NaN        S   \n",
       "416    male   NaN      0      0              359309    8.0500   NaN        S   \n",
       "417    male   NaN      1      1                2668   22.3583   NaN        C   \n",
       "\n",
       "     Survived_prediction  \n",
       "0                      0  \n",
       "1                      0  \n",
       "2                      0  \n",
       "3                      0  \n",
       "4                      0  \n",
       "..                   ...  \n",
       "413                    0  \n",
       "414                    1  \n",
       "415                    0  \n",
       "416                    0  \n",
       "417                    0  \n",
       "\n",
       "[418 rows x 12 columns]"
      ]
     },
     "execution_count": 85,
     "metadata": {},
     "output_type": "execute_result"
    }
   ],
   "source": [
    "y_pred = []\n",
    "for i in model.predict(x_train):\n",
    "    y_pred.append(np.where(i>0.5,1,0))\n",
    "#for i in y_pred:\n",
    "    #prediction = np.where(i >0.45, 1, 0)\n",
    "predict = pd.DataFrame(y_pred)\n",
    "te['Survived_prediction'] = predict\n",
    "te"
   ]
  },
  {
   "cell_type": "code",
   "execution_count": 86,
   "id": "08429d0f",
   "metadata": {},
   "outputs": [
    {
     "data": {
      "text/plain": [
       "0    289\n",
       "1    129\n",
       "Name: Survived_prediction, dtype: int64"
      ]
     },
     "execution_count": 86,
     "metadata": {},
     "output_type": "execute_result"
    }
   ],
   "source": [
    "te['Survived_prediction'].value_counts()"
   ]
  },
  {
   "cell_type": "markdown",
   "id": "904ad600",
   "metadata": {},
   "source": [
    "## So ,I got the prediction as 289 people will not survive and 129 people will survive"
   ]
  },
  {
   "cell_type": "code",
   "execution_count": 82,
   "id": "014957b5",
   "metadata": {},
   "outputs": [],
   "source": [
    "te.to_csv(\"te.csv\", index=False)"
   ]
  },
  {
   "cell_type": "code",
   "execution_count": 87,
   "id": "f4cf1c0d",
   "metadata": {},
   "outputs": [],
   "source": [
    "te.to_csv(\"E:\\\\Kaggle Projects\\\\test.csv\",index=False)"
   ]
  },
  {
   "cell_type": "code",
   "execution_count": null,
   "id": "0289bbff",
   "metadata": {},
   "outputs": [],
   "source": []
  }
 ],
 "metadata": {
  "kernelspec": {
   "display_name": "Python 3 (ipykernel)",
   "language": "python",
   "name": "python3"
  },
  "language_info": {
   "codemirror_mode": {
    "name": "ipython",
    "version": 3
   },
   "file_extension": ".py",
   "mimetype": "text/x-python",
   "name": "python",
   "nbconvert_exporter": "python",
   "pygments_lexer": "ipython3",
   "version": "3.8.10"
  }
 },
 "nbformat": 4,
 "nbformat_minor": 5
}
